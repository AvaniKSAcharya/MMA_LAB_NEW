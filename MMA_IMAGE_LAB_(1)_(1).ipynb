{
  "nbformat": 4,
  "nbformat_minor": 0,
  "metadata": {
    "colab": {
      "name": "MMA_IMAGE_LAB (1) (1).ipynb",
      "provenance": [],
      "collapsed_sections": [
        "GDoRZuDdCyXG",
        "Z-_N1uJnFArx",
        "OECoNEAtm1pa",
        "fmPwqFR_n7lS",
        "h7FspwzNt1um",
        "dR3A2CE0uOwW",
        "djxFk4-SvkxQ",
        "r-vicAoawLYk",
        "0KbP-h0dw1Ru",
        "M_0n9LDxxA1o",
        "sxE42A1UyEh6",
        "-WXoB3hUyQZi",
        "BxAjXH6wyejE",
        "i10PTmia0Rsa",
        "TQYt6D515Pp8",
        "80KkdQ7t549z",
        "xl6H7VtTEdbF"
      ]
    },
    "kernelspec": {
      "name": "python3",
      "display_name": "Python 3"
    },
    "language_info": {
      "name": "python"
    }
  },
  "cells": [
    {
      "cell_type": "markdown",
      "source": [
        "# K-MEANS ALGORITHM"
      ],
      "metadata": {
        "id": "GDoRZuDdCyXG"
      }
    },
    {
      "cell_type": "code",
      "execution_count": null,
      "metadata": {
        "id": "zGBDMCfACvQN"
      },
      "outputs": [],
      "source": [
        "import cv2\n",
        "import numpy as np\n",
        "import matplotlib.pyplot as plt\n",
        "from PIL import Image"
      ]
    },
    {
      "cell_type": "code",
      "source": [
        "# image = cv2.imread('/content/Lenna.png').astype(np.float32) / 255.\n",
        "image = cv2.imread('/content/Polarlicht.jpg').astype(np.float32) / 255.\n",
        "image_lab = cv2.cvtColor(image, cv2.COLOR_BGR2Lab)"
      ],
      "metadata": {
        "id": "tlqeQUWSC69r"
      },
      "execution_count": null,
      "outputs": []
    },
    {
      "cell_type": "code",
      "source": [
        "data = image_lab.reshape((-1, 3))"
      ],
      "metadata": {
        "id": "pnGWt67-C9A6"
      },
      "execution_count": null,
      "outputs": []
    },
    {
      "cell_type": "code",
      "source": [
        "num_classes = 4\n",
        "criteria = (cv2.TERM_CRITERIA_EPS + cv2.TERM_CRITERIA_MAX_ITER, 50, 0.1)\n",
        "_, labels, centers = cv2.kmeans(data, num_classes, None, criteria, 10, cv2.KMEANS_RANDOM_CENTERS)"
      ],
      "metadata": {
        "id": "6qc9PQHsDZw9"
      },
      "execution_count": null,
      "outputs": []
    },
    {
      "cell_type": "code",
      "source": [
        "segmented_lab = centers[labels.flatten()].reshape(image.shape)\n",
        "segmented = cv2.cvtColor(segmented_lab, cv2.COLOR_Lab2RGB)"
      ],
      "metadata": {
        "id": "nuLs7x-vDDDF"
      },
      "execution_count": null,
      "outputs": []
    },
    {
      "cell_type": "code",
      "source": [
        "plt.subplot(121)\n",
        "plt.axis('off')\n",
        "plt.title('original')\n",
        "plt.imshow(image[:, :, [2, 1, 0]])\n",
        "plt.subplot(122)\n",
        "plt.axis('off')\n",
        "plt.title('segmented')\n",
        "plt.imshow(segmented)\n",
        "plt.show()"
      ],
      "metadata": {
        "id": "C7-787RzDFIY"
      },
      "execution_count": null,
      "outputs": []
    },
    {
      "cell_type": "code",
      "source": [
        "# Helper function to display cv2 image object\n",
        "def show_image(image, show_axis=False):\n",
        "  plt.imshow(cv2.cvtColor(image, cv2.COLOR_BGR2RGB))\n",
        "  if not show_axis:\n",
        "    plt.axis('off')"
      ],
      "metadata": {
        "id": "knu1e25DDHLe"
      },
      "execution_count": null,
      "outputs": []
    },
    {
      "cell_type": "code",
      "source": [
        "holi_img = cv2.imread('./images/holi.png').astype(np.float32) / 255.\n",
        "holi_img_lab = cv2.cvtColor(holi_img, cv2.COLOR_BGR2Lab)\n",
        "show_image(holi_img)"
      ],
      "metadata": {
        "id": "xxZQZ2wZDnnj"
      },
      "execution_count": null,
      "outputs": []
    },
    {
      "cell_type": "code",
      "source": [
        "num_classes = 10\n",
        "data = holi_img_lab.reshape((-1, 3))\n",
        "criteria = (cv2.TERM_CRITERIA_EPS + cv2.TERM_CRITERIA_MAX_ITER, 50, 0.1)\n",
        "_, labels, centers = cv2.kmeans(data, num_classes, None, criteria, 10, cv2.KMEANS_RANDOM_CENTERS)"
      ],
      "metadata": {
        "id": "yoxj5k9jEErl"
      },
      "execution_count": null,
      "outputs": []
    },
    {
      "cell_type": "code",
      "source": [
        "segmented_lab = centers[labels.flatten()].reshape(holi_img.shape)\n",
        "segmented = cv2.cvtColor(segmented_lab, cv2.COLOR_Lab2RGB)"
      ],
      "metadata": {
        "id": "xXoAQqb8EKaV"
      },
      "execution_count": null,
      "outputs": []
    },
    {
      "cell_type": "code",
      "source": [
        "plt.subplot(121)\n",
        "plt.title('original')\n",
        "show_image(holi_img)\n",
        "plt.subplot(122)\n",
        "plt.title('segmented')\n",
        "plt.axis('off')\n",
        "plt.imshow(segmented)"
      ],
      "metadata": {
        "id": "bmJenVMKEhk7"
      },
      "execution_count": null,
      "outputs": []
    },
    {
      "cell_type": "markdown",
      "source": [
        "# COUNTERS"
      ],
      "metadata": {
        "id": "Z-_N1uJnFArx"
      }
    },
    {
      "cell_type": "code",
      "source": [
        "#Library Import\n",
        "import cv2\n",
        "from google.colab.patches import cv2_imshow\n",
        "import numpy as np\n",
        "import matplotlib.pyplot as plt\n",
        "%matplotlib auto\n",
        "import random"
      ],
      "metadata": {
        "id": "iOZKc0DtFIbq"
      },
      "execution_count": null,
      "outputs": []
    },
    {
      "cell_type": "code",
      "source": [
        "#Read the test image:\n",
        "image = cv2.imread('/content/Lenna.png', 0)\n",
        "print('Shape:', image.shape)\n",
        "print('Data type:', image.dtype)\n",
        "print('RGB Color Space')\n",
        "cv2_imshow(image)"
      ],
      "metadata": {
        "id": "AZe6rsiOFNSe"
      },
      "execution_count": null,
      "outputs": []
    },
    {
      "cell_type": "code",
      "source": [
        "# Otsu's thresholding\n",
        "ret,img_otsu_binary = cv2.threshold(image,0,255,cv2.THRESH_BINARY+cv2.THRESH_OTSU)\n",
        "print('Estimated threshold (Otsu):', ret)"
      ],
      "metadata": {
        "id": "EAMj0YrKFwn5"
      },
      "execution_count": null,
      "outputs": []
    },
    {
      "cell_type": "code",
      "source": [
        "print('original image')\n",
        "cv2_imshow(image)\n",
        "\n",
        "print('Otsu threshold')\n",
        "cv2_imshow(img_otsu_binary)"
      ],
      "metadata": {
        "id": "msJ6ESiNF0Jp"
      },
      "execution_count": null,
      "outputs": []
    },
    {
      "cell_type": "code",
      "source": [
        "contours, hierarchy = cv2.findContours(image, cv2.RETR_CCOMP, cv2.CHAIN_APPROX_SIMPLE)"
      ],
      "metadata": {
        "id": "XaXA951OGIPh"
      },
      "execution_count": null,
      "outputs": []
    },
    {
      "cell_type": "code",
      "source": [
        "# Prepare the external contour binary mask:\n",
        "\n",
        "image_external = np.zeros(image.shape, image.dtype)\n",
        "for i in range(len(contours)):\n",
        "    if hierarchy[0][i][3] == -1:\n",
        "        cv2.drawContours(image_external, contours, i, 255, -1)"
      ],
      "metadata": {
        "id": "rqAuDCw2GMFZ"
      },
      "execution_count": null,
      "outputs": []
    },
    {
      "cell_type": "code",
      "source": [
        "# Prepare the internal contour binary mask:\n",
        "\n",
        "image_internal = np.zeros(image.shape, image.dtype)\n",
        "for i in range(len(contours)):\n",
        "    if hierarchy[0][i][3] != -1:\n",
        "        cv2.drawContours(image_internal, contours, i, 255, -1)"
      ],
      "metadata": {
        "id": "e98w0GIHGeWT"
      },
      "execution_count": null,
      "outputs": []
    },
    {
      "cell_type": "code",
      "source": [
        "#Visualize the results:\n",
        "\n",
        "plt.figure(figsize=(10,3))\n",
        "plt.subplot(131)\n",
        "plt.axis('off')\n",
        "plt.title('original')\n",
        "plt.imshow(image, cmap='gray')\n",
        "plt.subplot(132)\n",
        "plt.axis('off')\n",
        "plt.title('external')\n",
        "plt.imshow(image_external, cmap='gray')\n",
        "plt.subplot(133)\n",
        "plt.axis('off')\n",
        "plt.title('internal')\n",
        "plt.imshow(image_internal, cmap='gray')\n",
        "plt.tight_layout()\n",
        "plt.show()"
      ],
      "metadata": {
        "id": "ePLAN0AkGh7D"
      },
      "execution_count": null,
      "outputs": []
    },
    {
      "cell_type": "code",
      "source": [
        "print('original image')\n",
        "cv2_imshow(image)\n",
        "\n",
        "print('external')\n",
        "cv2_imshow(image_external)\n",
        "\n",
        "print('internal')\n",
        "cv2_imshow(image_internal)"
      ],
      "metadata": {
        "id": "yTZf8uDBGieo"
      },
      "execution_count": null,
      "outputs": []
    },
    {
      "cell_type": "code",
      "source": [
        "contours, hierarchy = cv2.findContours(img, cv2.RETR_TREE, cv2.CHAIN_APPROX_SIMPLE)\n",
        "#contours, hierarchy = cv2.findContours(im_bw, cv2.RETR_TREE, cv2.CHAIN_APPROX_SIMPLE)\n",
        "\n",
        "color = cv2.cvtColor(img, cv2.COLOR_GRAY2BGR)\n",
        "cv2.drawContours(color, contours, -1, (0,255,0), 3)\n",
        "print('contours')\n",
        "cv2_imshow( color)\n"
      ],
      "metadata": {
        "id": "0gBxnXDSIi_O"
      },
      "execution_count": null,
      "outputs": []
    },
    {
      "cell_type": "code",
      "source": [
        "hull = cv2.convexHull(contour)\n",
        "cv2.drawContours(color, [hull], -1, (0,0,255), 3)\n",
        "\n",
        "print('contours')\n",
        "cv2_imshow(color)"
      ],
      "metadata": {
        "id": "2I49PTRUHMtN"
      },
      "execution_count": null,
      "outputs": []
    },
    {
      "cell_type": "code",
      "source": [
        "# Check the convexity of the contour and its hull:\n",
        "\n",
        "print('Convex status of contour is %s' % cv2.isContourConvex(contour))\n",
        "print('Convex status of its hull is %s' % cv2.isContourConvex(hull))"
      ],
      "metadata": {
        "id": "Jy6fld93HPgm"
      },
      "execution_count": null,
      "outputs": []
    },
    {
      "cell_type": "markdown",
      "source": [
        "# **HAAR CASCADE**"
      ],
      "metadata": {
        "id": "OECoNEAtm1pa"
      }
    },
    {
      "cell_type": "code",
      "source": [
        "# Download the test image and utils files\n",
        "!wget --no-check-certificate \\\n",
        "    https://raw.githubusercontent.com/computationalcore/introduction-to-opencv/master/assets/test.jpg \\\n",
        "    -O test.jpg\n",
        "!wget --no-check-certificate \\\n",
        "    https://raw.githubusercontent.com/computationalcore/introduction-to-opencv/master/assets/haarcascade_frontalface_default.xml \\\n",
        "    -O haarcascade_frontalface_default.xml\n",
        "!wget --no-check-certificate \\\n",
        "    https://raw.githubusercontent.com/computationalcore/introduction-to-opencv/master/assets/haarcascade_smile.xml \\\n",
        "    -O haarcascade_smile.xml\n",
        "!wget --no-check-certificate \\\n",
        "    https://raw.githubusercontent.com/computationalcore/introduction-to-opencv/master/assets/haarcascade_eye.xml \\\n",
        "    -O haarcascade_eye.xml\n",
        "!wget --no-check-certificate \\\n",
        "    https://raw.githubusercontent.com/computationalcore/introduction-to-opencv/master/utils/common.py \\\n",
        "    -O common.py\n",
        "\n",
        "# these imports let you use opencv\n",
        "import cv2 #opencv itself\n",
        "import common #some useful opencv functions\n",
        "import numpy as np # matrix manipulations\n",
        "\n",
        "#the following are to do with this interactive notebook code\n",
        "%matplotlib inline \n",
        "from matplotlib import pyplot as plt # this lets you draw inline pictures in the notebooks\n",
        "import pylab # this allows you to control figure size \n",
        "pylab.rcParams['figure.figsize'] = (10.0, 8.0) # this controls figure size in the notebook"
      ],
      "metadata": {
        "id": "AFIVy8Utm-0j"
      },
      "execution_count": null,
      "outputs": []
    },
    {
      "cell_type": "code",
      "source": [
        "# Load the test image and create a greyscale copy of it to be used in the classifiers\n",
        "\n",
        "base_image = cv2.imread('test.jpg')\n",
        "#base_image = cv2.imread('photo.jpg')\n",
        "grey = cv2.cvtColor(base_image, cv2.COLOR_BGR2GRAY)\n",
        "plt.imshow(cv2.cvtColor(base_image, cv2.COLOR_BGR2RGB))"
      ],
      "metadata": {
        "id": "Aqiw-063m_sA"
      },
      "execution_count": null,
      "outputs": []
    },
    {
      "cell_type": "markdown",
      "source": [
        "**FACE DETECTION**"
      ],
      "metadata": {
        "id": "i8pF_U90nFvm"
      }
    },
    {
      "cell_type": "code",
      "source": [
        "# this is a pre-trained face cascade\n",
        "test_image = cv2.imread('test.jpg')\n",
        "#test_image = cv2.imread('photo.jpg')\n",
        "face_cascade = cv2.CascadeClassifier('haarcascade_frontalface_default.xml')\n",
        "faces = face_cascade.detectMultiScale(grey, 1.3, 5) # (img, scaleFactor, minNeighbors)\n",
        "for (x,y,w,h) in faces:\n",
        "     cv2.rectangle(test_image,(x,y),(x+w,y+h),(255,0,0),2)\n",
        "plt.imshow(cv2.cvtColor(test_image, cv2.COLOR_BGR2RGB))"
      ],
      "metadata": {
        "id": "ZZ-CjJFXnCF_"
      },
      "execution_count": null,
      "outputs": []
    },
    {
      "cell_type": "markdown",
      "source": [
        "**SMILE DETECTION**"
      ],
      "metadata": {
        "id": "XDaP-b7RnLw1"
      }
    },
    {
      "cell_type": "code",
      "source": [
        "# this is a pre-trained face cascade\n",
        "test_image = cv2.imread('test.jpg')\n",
        "#test_image = cv2.imread('photo.jpg')\n",
        "smile_cascade = cv2.CascadeClassifier('haarcascade_smile.xml')\n",
        "smiles = smile_cascade.detectMultiScale(grey, 1.3, 20)\n",
        "for (x,y,w,h) in smiles:\n",
        "     cv2.rectangle(test_image,(x,y),(x+w,y+h),(0,255,0),2)\n",
        "plt.imshow(cv2.cvtColor(test_image, cv2.COLOR_BGR2RGB))"
      ],
      "metadata": {
        "id": "8mjB4M3XnJGa"
      },
      "execution_count": null,
      "outputs": []
    },
    {
      "cell_type": "code",
      "source": [
        "# this is a pre-trained face cascade\n",
        "test_image = cv2.imread('test.jpg')\n",
        "#test_image = cv2.imread('photo.jpg')\n",
        "for (x,y,w,h) in faces:\n",
        "  for (x_s,y_s,w_s,h_s) in smiles:\n",
        "    if( (x <= x_s) and (y <= y_s) and ( x+w >= x_s+w_s) and ( y+h >= y_s+h_s)):\n",
        "      cv2.rectangle(test_image, (x_s,y_s),(x_s+w_s,y_s+h_s),(0,255,0),2)\n",
        "plt.imshow(cv2.cvtColor(test_image, cv2.COLOR_BGR2RGB))"
      ],
      "metadata": {
        "id": "_FKyn2AcnQ7B"
      },
      "execution_count": null,
      "outputs": []
    },
    {
      "cell_type": "code",
      "source": [
        "test_image = cv2.imread('test.jpg')\n",
        "#test_image = cv2.imread('photo.jpg')\n",
        "eye_cascade = cv2.CascadeClassifier('haarcascade_eye.xml')\n",
        "eyes = eye_cascade.detectMultiScale(grey, 1.3, 1)\n",
        "for (x,y,w,h) in eyes:\n",
        "     cv2.rectangle(test_image,(x,y),(x+w,y+h),(255,255,255),2)\n",
        "plt.imshow(cv2.cvtColor(test_image, cv2.COLOR_BGR2RGB))"
      ],
      "metadata": {
        "id": "8xInYuXJnZKY"
      },
      "execution_count": null,
      "outputs": []
    },
    {
      "cell_type": "code",
      "source": [
        "test_image = cv2.imread('test.jpg')\n",
        "#test_image = cv2.imread('photo.jpg')\n",
        "for (x,y,w,h) in faces:\n",
        "  #cv2.rectangle(smile_faces_base_image,(x,y),(x+w,y+h),(255,0,0),2)\n",
        "  for (x_s,y_s,w_s,h_s) in eyes:\n",
        "    if( (x <= x_s) and (y <= y_s) and ( x+w >= x_s+w_s) and ( y+h >= y_s+h_s)):\n",
        "      cv2.rectangle(test_image, (x_s,y_s),(x_s+w_s,y_s+h_s),(255,255,255),2)\n",
        "plt.imshow(cv2.cvtColor(test_image, cv2.COLOR_BGR2RGB))"
      ],
      "metadata": {
        "id": "e0hZ4bDHnchB"
      },
      "execution_count": null,
      "outputs": []
    },
    {
      "cell_type": "code",
      "source": [
        "test_image = cv2.imread('test.jpg')\n",
        "#test_image = cv2.imread('photo.jpg')\n",
        "for (x,y,w,h) in faces:\n",
        "  cv2.rectangle(test_image,(x,y),(x+w,y+h),(255,0,0),2)\n",
        "  for (x_s,y_s,w_s,h_s) in eyes:\n",
        "    if( (x <= x_s) and (y <= y_s) and ( x+w >= x_s+w_s) and ( y+h >= y_s+h_s)):\n",
        "      cv2.rectangle(test_image, (x_s,y_s),(x_s+w_s,y_s+h_s),(255,255,255),2)\n",
        "  for (x_s,y_s,w_s,h_s) in smiles:\n",
        "    if( (x <= x_s) and (y <= y_s) and ( x+w >= x_s+w_s) and ( y+h >= y_s+h_s)):\n",
        "      cv2.rectangle(test_image, (x_s,y_s),(x_s+w_s,y_s+h_s),(0,255,0),2)\n",
        "plt.imshow(cv2.cvtColor(test_image, cv2.COLOR_BGR2RGB))"
      ],
      "metadata": {
        "id": "ju9CzfP6nfsC"
      },
      "execution_count": null,
      "outputs": []
    },
    {
      "cell_type": "markdown",
      "source": [
        "**OBJECT RECOGNITION - VIDEO**"
      ],
      "metadata": {
        "id": "pTrtc4a_nw2x"
      }
    },
    {
      "cell_type": "code",
      "source": [
        "import cv2\n",
        "scale_factor = 1.2\n",
        "min_neighbors = 3\n",
        "min_size = (50, 50)\n",
        "webcam=True #if working with video file then make it 'False'\n",
        "def detect(path):\n",
        "    cascade = cv2.CascadeClassifier(path)\n",
        "    if webcam:\n",
        "        video_cap = cv2.VideoCapture(1) # use 0,1,2..depanding on your webcam\n",
        "    else:\n",
        "        video_cap = cv2.VideoCapture(\"/content/video.mp4\")\n",
        "    while True:\n",
        "        # Capture frame-by-frame\n",
        "        ret, img = video_cap.read()\n",
        "        #converting to gray image for faster video processing\n",
        "        gray = cv2.cvtColor(img, cv2.COLOR_BGR2GRAY)\n",
        "        rects = cascade.detectMultiScale(gray, scaleFactor=scale_factor, minNeighbors=min_neighbors,\n",
        "                                         minSize=min_size)\n",
        "        # if at least 1 face detected\n",
        "        if len(rects) >= 0:\n",
        "            # Draw a rectangle around the faces\n",
        "            for (x, y, w, h) in rects:\n",
        "                cv2.rectangle(img, (x, y), (x + w, y + h), (0, 255, 0), 2)\n",
        "            # Display the resulting frame\n",
        "            cv2.imshow('Face Detection on Video', img)\n",
        "            #wait for 'c' to close the application\n",
        "            if cv2.waitKey(1) & 0xFF == ord('c'):\n",
        "                break\n",
        "    video_cap.release()\n",
        "def main():\n",
        "    cascadeFilePath=\"haarcascade_frontalface_alt.xml\"\n",
        "    detect(cascadeFilePath)\n",
        "    cv2.destroyAllWindows()\n",
        "if __name__ == \"__main__\":\n",
        "    main()"
      ],
      "metadata": {
        "id": "rU0dFCXrn14E"
      },
      "execution_count": null,
      "outputs": []
    },
    {
      "cell_type": "markdown",
      "source": [
        "# **IMAGE READING**"
      ],
      "metadata": {
        "id": "fmPwqFR_n7lS"
      }
    },
    {
      "cell_type": "code",
      "source": [
        "import cv2\n",
        "from google.colab.patches import cv2_imshow\n",
        "import numpy as np"
      ],
      "metadata": {
        "id": "U9Pn-Wh8qve0"
      },
      "execution_count": null,
      "outputs": []
    },
    {
      "cell_type": "code",
      "source": [
        "img = cv2.imread(\"Lenna.png\")\n",
        "print('data type is:',type(img))\n",
        "print('image is stored in numpy  matrix:', img)\n",
        "print('image shape is:', img.shape)\n",
        "print('image dimension is:', img.ndim)"
      ],
      "metadata": {
        "id": "rz3uoJrLqwM6"
      },
      "execution_count": null,
      "outputs": []
    },
    {
      "cell_type": "code",
      "source": [
        "#Display Image\n",
        "print(\"Lena image\")\n",
        "cv2_imshow(img)"
      ],
      "metadata": {
        "id": "nCYkbiMPqyGQ"
      },
      "execution_count": null,
      "outputs": []
    },
    {
      "cell_type": "code",
      "source": [
        "pip install opencv-contrib-python"
      ],
      "metadata": {
        "id": "isbKvsG1q2wt"
      },
      "execution_count": null,
      "outputs": []
    },
    {
      "cell_type": "code",
      "source": [
        "img = cv2.imread(\"Lenna.png\")\n",
        "\n",
        "#Display Image\n",
        "print(\"Lena image\")\n",
        "cv2_imshow(img)\n",
        "\n",
        "\n",
        "#Saving Image on a file\n",
        "isWritten = cv2.imwrite('Lenna-write.png', img)\n",
        "if isWritten:\n",
        "\tprint('\\n \\n Image is successfully saved as file.\\n')\n",
        "\n",
        "\n",
        "#Display Image\n",
        "cv2.imread(\"Lenna-write.png\")\n",
        "print(\"Lena Written image\")\n",
        "#cv2_imshow(img_written)"
      ],
      "metadata": {
        "id": "KB2shtHeq6Mh"
      },
      "execution_count": null,
      "outputs": []
    },
    {
      "cell_type": "markdown",
      "source": [
        "**PIXEL INFORMATION**"
      ],
      "metadata": {
        "id": "FDDtAAndrAxN"
      }
    },
    {
      "cell_type": "code",
      "source": [
        "img = cv2.imread(\"Lenna.png\")\n",
        "\n",
        "print(\"Lena image\")\n",
        "cv2_imshow(img)\n",
        "\n",
        "# Pixel Resolution and Depth\n",
        "print(\"Pixel Resolution (Height, Width) and Depth:\", img.shape)\n",
        "\n",
        "print(\"Image Height:\", img.shape[0])\n",
        "print(\"Image Width:\", img.shape[1])\n",
        "print(\"Image layer/channel:\", img.shape[-1])"
      ],
      "metadata": {
        "id": "DIY6_EfbrEML"
      },
      "execution_count": null,
      "outputs": []
    },
    {
      "cell_type": "markdown",
      "source": [
        "**RGB - GREY**"
      ],
      "metadata": {
        "id": "QKQuelgorHJc"
      }
    },
    {
      "cell_type": "code",
      "source": [
        "img = cv2.imread(\"Lenna.png\")\n",
        "\n",
        "print(\"Lena image\")\n",
        "cv2_imshow(img)\n",
        "\n",
        "# Pixel Resolution and Depth\n",
        "print(\"Pixel Resolution (Height, Width) and Depth:\", img.shape)\n",
        "\n",
        "print(\"Image Height:\", img.shape[0])\n",
        "print(\"Image Width:\", img.shape[1])\n",
        "print(\"Image layer/channel:\", img.shape[-1])"
      ],
      "metadata": {
        "id": "yLQ9oQCXq-JX"
      },
      "execution_count": null,
      "outputs": []
    },
    {
      "cell_type": "markdown",
      "source": [
        "**RGB - BW**"
      ],
      "metadata": {
        "id": "gdZMUWXHrMaR"
      }
    },
    {
      "cell_type": "code",
      "source": [
        "# RGB to GreyScale \n",
        "img1 = cv2.imread(\"Lenna.png\", 0)\n",
        "\n",
        "print(\"Lena GreyScale  image\")\n",
        "cv2_imshow(img1)\n",
        "\n",
        "# GreyScale to BW\n",
        "print(\"Lena BW image\")\n",
        "\n",
        "ret, im_bw = cv2.threshold(img1, 127,255,cv2.THRESH_BINARY)\n",
        "#im_bw = cv2.threshold(img1, 127,255,cv2.THRESH_BINARY)[1]\n",
        "#(thresh, im_bw) = cv2.threshold(img1, 128, 255, cv2.THRESH_BINARY | cv2.THRESH_OTSU)\n",
        "\n",
        "cv2_imshow(im_bw)"
      ],
      "metadata": {
        "id": "CFMNTn33rR81"
      },
      "execution_count": null,
      "outputs": []
    },
    {
      "cell_type": "markdown",
      "source": [
        "**COLOR FILTER**"
      ],
      "metadata": {
        "id": "7UjdS4C_rZMx"
      }
    },
    {
      "cell_type": "code",
      "source": [
        "img = cv2.imread(\"/content/Lenna.png\")\n",
        "\n",
        "print(\"RGB original image\")\n",
        "cv2_imshow(img)\n",
        "\n",
        "print(\"HSV image\")\n",
        "img_HSV = cv2.cvtColor(img, cv2.COLOR_BGR2HSV)\n",
        "cv2_imshow(img_HSV)\n",
        "\n",
        "print(\"HUE CHANNEL\")\n",
        "cv2_imshow(img_HSV[:, :, 0] ) #HUE CHANNEL\n",
        "print(\"SATURATION\")\n",
        "cv2_imshow(img_HSV[:, :, 1] ) #SATURATION\n",
        "print(\"VALUE\")\n",
        "cv2_imshow(img_HSV[:, :, 2] )  #VALUE"
      ],
      "metadata": {
        "id": "FeIbQF2hrlVZ"
      },
      "execution_count": null,
      "outputs": []
    },
    {
      "cell_type": "markdown",
      "source": [
        "**EXTRACTING RGB LAYERS**"
      ],
      "metadata": {
        "id": "3bpn36XBrvkb"
      }
    },
    {
      "cell_type": "code",
      "source": [
        "import numpy as np\n",
        "\n",
        "img = cv2.imread(\"/content/Lenna.png\")\n",
        "\n",
        "print(\"RGB original image\")\n",
        "cv2_imshow(img)\n",
        "\n",
        "B, G, R = cv2.split(img)\n",
        "\n",
        "#defining a 2-D arrays of zeros for masking R G B channels\n",
        "zeros = np.zeros(img.shape[:2], dtype=\"uint8\")\n",
        "\n",
        "#Extracting R channel\n",
        "print(\"Red component/attribute in image\")\n",
        "cv2_imshow(cv2.merge([zeros,zeros,R]))\n",
        "\n",
        "#Extracting G channel\n",
        "print(\"Green component/attribute in image\")\n",
        "cv2_imshow(cv2.merge([zeros,G,zeros]))\n",
        "\n",
        "#Extracting B channel\n",
        "print(\"Blue component/attribute in image\")\n",
        "cv2_imshow(cv2.merge([B,zeros,zeros]))"
      ],
      "metadata": {
        "id": "tMFUjPTYr0kR"
      },
      "execution_count": null,
      "outputs": []
    },
    {
      "cell_type": "markdown",
      "source": [
        "**IMAGE DISPLACEMENT OR TRANSLATION**"
      ],
      "metadata": {
        "id": "EE_Q8i_gr3ag"
      }
    },
    {
      "cell_type": "code",
      "source": [
        "import numpy as np\n",
        "\n",
        "img = cv2.imread(\"/content/Lenna.png\")\n",
        "\n",
        "print(\"RGB original image\")\n",
        "cv2_imshow(img)\n",
        "\n",
        "B, G, R = cv2.split(img)\n",
        "\n",
        "#defining a 2-D arrays of zeros for masking R G B channels\n",
        "zeros = np.zeros(img.shape[:2], dtype=\"uint8\")\n",
        "\n",
        "#Extracting R channel\n",
        "print(\"Red component/attribute in image\")\n",
        "cv2_imshow(cv2.merge([zeros,zeros,R]))\n",
        "\n",
        "#Extracting G channel\n",
        "print(\"Green component/attribute in image\")\n",
        "cv2_imshow(cv2.merge([zeros,G,zeros]))\n",
        "\n",
        "#Extracting B channel\n",
        "print(\"Blue component/attribute in image\")\n",
        "cv2_imshow(cv2.merge([B,zeros,zeros]))"
      ],
      "metadata": {
        "id": "MZIYZUW2sAHo"
      },
      "execution_count": null,
      "outputs": []
    },
    {
      "cell_type": "markdown",
      "source": [
        "**IMAGE ROTATION**"
      ],
      "metadata": {
        "id": "1FRv-xAqsD_A"
      }
    },
    {
      "cell_type": "code",
      "source": [
        "img = cv2.imread(\"/content/Lenna.png\")\n",
        "\n",
        "#Storing Height and Width of the image\n",
        "height, width = img.shape[:2]\n",
        "print(\"Image height is: \", height)\n",
        "print(\"Image width is: \", width)\n",
        "\n",
        "#Rotate Image\n",
        "rotation_matrix = cv2.getRotationMatrix2D((width/2, height/2), 70, .5)\n",
        "#vary (height, width), degree, and scaling factor\n",
        "\n",
        "#warpAffine function shifts the image\n",
        "rotated_image = cv2.warpAffine(img, rotation_matrix, (width, height))\n",
        "\n",
        "print(\"Original image\")\n",
        "cv2_imshow(img)\n",
        "\n",
        "print(\"Rotated image\")\n",
        "cv2_imshow(rotated_image)"
      ],
      "metadata": {
        "id": "r3IUPnAIsGrp"
      },
      "execution_count": null,
      "outputs": []
    },
    {
      "cell_type": "markdown",
      "source": [
        "**IMAGE TRANSPOSE**"
      ],
      "metadata": {
        "id": "jRu0Xhu_sTAh"
      }
    },
    {
      "cell_type": "code",
      "source": [
        "img = cv2.imread(\"/content/Lenna.png\")\n",
        "\n",
        "#Transpose image\n",
        "tras_image = cv2.transpose(img)\n",
        "\n",
        "print(\"Original image\")\n",
        "cv2_imshow(img)\n",
        "\n",
        "print(\"Transposed image\")\n",
        "cv2_imshow(tras_image)"
      ],
      "metadata": {
        "id": "9obCua9SsW2U"
      },
      "execution_count": null,
      "outputs": []
    },
    {
      "cell_type": "markdown",
      "source": [
        "**IMAGE SCALING AND RESIZING**"
      ],
      "metadata": {
        "id": "iYNsFVZrsXut"
      }
    },
    {
      "cell_type": "code",
      "source": [
        "img = cv2.imread(\"/content/Lenna.png\")\n",
        "\n",
        "print(\"Original image\")\n",
        "cv2_imshow(img)\n",
        "\n",
        "#1 - resizing image to 3/4 of original size\n",
        "img_scaled = cv2.resize(img, None, fx = 0.75, fy = 0.75)\n",
        "print(\"Scaled to 3/4 image\")\n",
        "cv2_imshow(img_scaled)\n",
        "\n",
        "#2 - resizing image to double of original size\n",
        "img_double = cv2.resize(img, None, fx = 2, fy = 2)\n",
        "#img_double = cv2.resize(img, None, fx = 2, fy = 2, interpolation=cv2.INTER_CUBIC)\n",
        "print(\"Scaled to double the original image\")\n",
        "cv2_imshow(img_double)\n",
        "\n",
        "#3 - Image resizing to required dimention\n",
        "img_req_resize = cv2.resize(img, (900, 400), interpolation=cv2.INTER_AREA)\n",
        "print(\"Image resizing to required dimention\")\n",
        "cv2_imshow(img_req_resize)"
      ],
      "metadata": {
        "id": "dC5F4xhPseKb"
      },
      "execution_count": null,
      "outputs": []
    },
    {
      "cell_type": "markdown",
      "source": [
        "**IMAGE RESIZE - PYTHON PYRAMID**"
      ],
      "metadata": {
        "id": "nRyzNY5pshtj"
      }
    },
    {
      "cell_type": "code",
      "source": [
        "img = cv2.imread(\"/content/Lenna.png\")\n",
        "\n",
        "img_small = cv2.pyrDown(img)\n",
        "img_large = cv2.pyrUp(img)\n",
        "\n",
        "print(\"Smaller image\")\n",
        "cv2_imshow(img_small)\n",
        "\n",
        "print(\"Original image\")\n",
        "cv2_imshow(img)\n",
        "\n",
        "print(\"Larger image\")\n",
        "cv2_imshow(img_large)"
      ],
      "metadata": {
        "id": "mogYrtg1sq3G"
      },
      "execution_count": null,
      "outputs": []
    },
    {
      "cell_type": "markdown",
      "source": [
        "**IMAGE CROPPING**"
      ],
      "metadata": {
        "id": "FIM7XgAFsrhf"
      }
    },
    {
      "cell_type": "code",
      "source": [
        "img = cv2.imread(\"/content/Lenna.png\")\n",
        "\n",
        "#Storing Height and Width of the image for cropping\n",
        "height, width = img.shape[:2]\n",
        "print(\"Image height is: \", height)\n",
        "print(\"Image width is: \", width)\n",
        "\n",
        "#get the starting pixel coordinates(top left, of cropping rectangle)\n",
        "start_row, start_col = int(height*.25), int(width*.25)\n",
        "\n",
        "#get the ending pixel coordinates (bottom right)\n",
        "end_row, end_col = int(height*.75), int(width*.75)\n",
        "\n",
        "#corp the image\n",
        "cropped_img = img[start_row:end_row, start_col:end_col]\n",
        "\n",
        "print(\"Original image\")\n",
        "cv2_imshow(img)\n",
        "\n",
        "print(\"Cropped image\")\n",
        "cv2_imshow(cropped_img)"
      ],
      "metadata": {
        "id": "7pXrUDU0s4do"
      },
      "execution_count": null,
      "outputs": []
    },
    {
      "cell_type": "markdown",
      "source": [
        "**IMAGE ARITHMETICS**"
      ],
      "metadata": {
        "id": "V6VnLxccs9Wa"
      }
    },
    {
      "cell_type": "code",
      "source": [
        "img = cv2.imread(\"/content/Lenna.png\")\n",
        "\n",
        "print(\"Original image\")\n",
        "cv2_imshow(img)\n",
        "\n",
        "#We create a matrix to perform image airthmeics (matirx having value of 150)\n",
        "M = np.ones(img.shape, dtype=\"uint8\") * 150\n",
        "#M = np.zeros(img.shape, dtype=\"uint8\") + 150\n",
        "\n",
        "#Addition\n",
        "add_img = cv2.add(img, M)\n",
        "print(\"Image after addition Operation\")\n",
        "cv2_imshow(add_img)\n",
        "\n",
        "#Subtraction\n",
        "sub_img = cv2.subtract(img, M)\n",
        "print(\"Image after Subtraction Operation\")\n",
        "cv2_imshow(sub_img)\n",
        "\n",
        "#Multipication\n",
        "mul_img = cv2.multiply(img, M)\n",
        "print(\"Image after Multipication Operation\")\n",
        "cv2_imshow(mul_img)\n",
        "\n",
        "#We create a matrix to perform image airthmeics (matirx having value of 150)\n",
        "M = np.zeros(img.shape, dtype=\"uint8\") + 150"
      ],
      "metadata": {
        "id": "YFXFiyQms_j9"
      },
      "execution_count": null,
      "outputs": []
    },
    {
      "cell_type": "markdown",
      "source": [
        "**BITWISE OPERATION BW IMAGES**"
      ],
      "metadata": {
        "id": "JDvSv16GtMNQ"
      }
    },
    {
      "cell_type": "code",
      "source": [
        "img = cv2.imread(\"/content/Lenna.png\")\n",
        "\n",
        "#image-1 - Square\n",
        "square_img = np.zeros((300, 300), np.uint8)\n",
        "cv2.rectangle(square_img, (50,50),(250,250), 255, -1) #img_name, start point, end_point, pixel_value, line_cover put= 1,2,3 and see(we fill completely)\n",
        "print(\"Square Image\")\n",
        "cv2_imshow(square_img)\n",
        "\n",
        "#image-2 - half ellipse\n",
        "ellipse_img = np.zeros((300, 300), np.uint8)\n",
        "cv2.ellipse(ellipse_img, (150,150),(150,150), 30, 0, 180, 255, -1)\n",
        "print(\"Ellipse Image\")\n",
        "cv2_imshow(ellipse_img)\n",
        "\n",
        "#bitwise AND Operation\n",
        "AND_img = cv2.bitwise_and(square_img, ellipse_img)\n",
        "print(\"Image - AND\")\n",
        "cv2_imshow(AND_img)\n",
        "\n",
        "#bitwise AND Operation\n",
        "OR_img = cv2.bitwise_or(square_img, ellipse_img)\n",
        "print(\"Image - OR\")\n",
        "cv2_imshow(OR_img)\n",
        "\n",
        "#bitwise XOR Operation\n",
        "XOR_img = cv2.bitwise_xor(square_img, ellipse_img)\n",
        "print(\"Image - XOR\")\n",
        "cv2_imshow(XOR_img)\n",
        "\n",
        "#bitwise NOT Operation\n",
        "SNOT_img = cv2.bitwise_not(square_img)\n",
        "print(\"Square Image - NOT\")\n",
        "cv2_imshow(SNOT_img)\n",
        "\n",
        "#bitwise NOT Operation\n",
        "ENOT_img = cv2.bitwise_not(ellipse_img)\n",
        "print(\"Ellipse Image - NOT\")\n",
        "cv2_imshow(ENOT_img)"
      ],
      "metadata": {
        "id": "9x8taThitIh9"
      },
      "execution_count": null,
      "outputs": []
    },
    {
      "cell_type": "markdown",
      "source": [
        "**BLURRING**"
      ],
      "metadata": {
        "id": "X2BCqEp6tTjJ"
      }
    },
    {
      "cell_type": "code",
      "source": [
        "img = cv2.imread(\"/content/Lenna.png\")\n",
        "\n",
        "print(\"Original image\")\n",
        "cv2_imshow(img)\n",
        "\n",
        "#Creating a 3x3 Kernal Matrix (its a filter matrix to create blurring in lenna image)\n",
        "kernal_3x3 = np.ones((3, 3), np.float32)/9\n",
        "kernal_7x7 = np.ones((7, 7), np.float32)/49\n",
        "\n",
        "# Creating Blurring effect\n",
        "blur_img_3x3 = cv2.filter2D(img, -1, kernal_3x3) # -1 = image depth\n",
        "print(\"Blurred image 3x3\")\n",
        "cv2_imshow(blur_img_3x3)\n",
        "\n",
        "blur_img_7x7 = cv2.filter2D(img, -1, kernal_7x7) # -1 = image depth\n",
        "print(\"Blurred image 7x7\")\n",
        "cv2_imshow(blur_img_7x7)\n"
      ],
      "metadata": {
        "id": "guU9_aPntebp"
      },
      "execution_count": null,
      "outputs": []
    },
    {
      "cell_type": "markdown",
      "source": [
        "**SMOOTHING**"
      ],
      "metadata": {
        "id": "RT9oI5XSte_4"
      }
    },
    {
      "cell_type": "code",
      "source": [
        "img = cv2.imread(\"/content/Lenna.png\")\n",
        "\n",
        "print(\"Original image\")\n",
        "cv2_imshow(img)\n",
        "\n",
        "#Averaging\n",
        "blur_img = cv2.blur(img, (3, 3)) #3x3 is kernal matrix\n",
        "print(\"Averaging Blur image\")\n",
        "cv2_imshow(blur_img)\n",
        "\n",
        "#Gaussian Blur filter\n",
        "gaussian_img = cv2.GaussianBlur(img, (7,7), 0) #it is light weight, blurring + smoothing effect\n",
        "print(\"Gaussian Blur image\")\n",
        "cv2_imshow(gaussian_img)\n",
        "\n",
        "#Median Blur filter - heavy filter\n",
        "median_img = cv2.medianBlur(img, 5) # applied on all pixel by cal meian values\n",
        "print(\"Median Blur image\")\n",
        "cv2_imshow(median_img)\n",
        "\n",
        "#Bilatral Filter - Heavy Filter - best\n",
        "bilatral_img = cv2.bilateralFilter(img, 9, 75, 75) # applied on all pixel by cal meian values\n",
        "print(\"Bilatral Blur image\")\n",
        "cv2_imshow(bilatral_img)"
      ],
      "metadata": {
        "id": "mMgRg9NRtm_p"
      },
      "execution_count": null,
      "outputs": []
    },
    {
      "cell_type": "markdown",
      "source": [
        "**EDGE DETECTION**"
      ],
      "metadata": {
        "id": "kS-XVUoVtpbR"
      }
    },
    {
      "cell_type": "code",
      "source": [
        "img = cv2.imread(\"/content/Lenna.png\", 0)\n",
        "\n",
        "\n",
        "#Storing Height and Width of the image for cropping\n",
        "height, width = img.shape[:2]\n",
        "print(\"Image height is: \", height)\n",
        "print(\"Image width is: \", width)\n",
        "print(\"Original image\")\n",
        "cv2_imshow(img)\n",
        "\n",
        "#extract Slop Edges -\n",
        "#1 - we use sobel - poor method - too noisy\n",
        "sobel_x_img = cv2.Sobel(img, cv2.CV_64F, 1, 0, ksize = 5) #img, data, height, width, kernal\n",
        "sobel_y_img = cv2.Sobel(img, cv2.CV_64F, 0, 1, ksize = 5)\n",
        "print(\"Sobel X image\")\n",
        "cv2_imshow(sobel_x_img)\n",
        "print(\"Sobel Y image\")\n",
        "cv2_imshow(sobel_y_img)\n",
        "\n",
        "#Bitwise ORing of both images\n",
        "sobel_OR_img = cv2.bitwise_or(sobel_x_img, sobel_y_img)\n",
        "print(\"Sobel OR image\")\n",
        "cv2_imshow(sobel_OR_img)\n",
        "\n",
        "#2 - we use laplacian\n",
        "laplacian_img = cv2.Laplacian(img,cv2.CV_64F)\n",
        "print(\"laplacian image\")\n",
        "cv2_imshow(laplacian_img )\n",
        "\n",
        "#3 - Canny Edge Detection\n",
        "canny_img = cv2.Canny(img, 29, 170)\n",
        "print(\"Canny image\")\n",
        "cv2_imshow(canny_img )"
      ],
      "metadata": {
        "id": "TH36Q8bSt03O"
      },
      "execution_count": null,
      "outputs": []
    },
    {
      "cell_type": "markdown",
      "source": [
        "# **LANE DETECTION**"
      ],
      "metadata": {
        "id": "h7FspwzNt1um"
      }
    },
    {
      "cell_type": "code",
      "source": [
        "!git clone https://github.com/Dt-Pham/Advanced-Lane-Lines.git\n",
        "%cd Advanced-Lane-Lines/"
      ],
      "metadata": {
        "id": "3XrhECQKuKxy"
      },
      "execution_count": null,
      "outputs": []
    },
    {
      "cell_type": "code",
      "source": [
        "import numpy as np\n",
        "import matplotlib.image as mpimg\n",
        "import cv2\n",
        "from docopt import docopt\n",
        "from IPython.display import HTML\n",
        "from IPython.core.display import Video\n",
        "from moviepy.editor import VideoFileClip\n",
        "from CameraCalibration import CameraCalibration\n",
        "from Thresholding import *\n",
        "from PerspectiveTransformation import *\n",
        "from LaneLines import *\n",
        "\n",
        "class FindLaneLines:\n",
        "    def __init__(self):\n",
        "        \"\"\" Init Application\"\"\"\n",
        "        self.calibration = CameraCalibration('camera_cal', 9, 6)\n",
        "        self.thresholding = Thresholding()\n",
        "        self.transform = PerspectiveTransformation()\n",
        "        self.lanelines = LaneLines()\n",
        "\n",
        "    def forward(self, img):\n",
        "        out_img = np.copy(img)\n",
        "        img = self.calibration.undistort(img)\n",
        "        img = self.transform.forward(img)\n",
        "        img = self.thresholding.forward(img)\n",
        "        img = self.lanelines.forward(img)\n",
        "        img = self.transform.backward(img)\n",
        "\n",
        "        out_img = cv2.addWeighted(out_img, 1, img, 0.6, 0)\n",
        "        out_img = self.lanelines.plot(out_img)\n",
        "        return out_img\n",
        "\n",
        "    def process_image(self, input_path, output_path):\n",
        "        img = mpimg.imread(input_path)\n",
        "        out_img = self.forward(img)\n",
        "        mpimg.imsave(output_path, out_img)\n",
        "\n",
        "    def process_video(self, input_path, output_path):\n",
        "        clip = VideoFileClip(input_path)\n",
        "        out_clip = clip.fl_image(self.forward)\n",
        "        out_clip.write_videofile(output_path, audio=False)\n",
        "\n",
        "def main():\n",
        "    findLaneLines = FindLaneLines()\n",
        "    findLaneLines.process_video(\"challenge_video.mp4\",\"output.mp4\")\n",
        "\n",
        "if __name__ == \"__main__\":\n",
        "    main()"
      ],
      "metadata": {
        "id": "M05Rte_PuLhx"
      },
      "execution_count": null,
      "outputs": []
    },
    {
      "cell_type": "markdown",
      "source": [
        "# **IMAGE COLORS MODELS**"
      ],
      "metadata": {
        "id": "dR3A2CE0uOwW"
      }
    },
    {
      "cell_type": "markdown",
      "source": [
        "**RGB MODELS**"
      ],
      "metadata": {
        "id": "EXanHq3budgo"
      }
    },
    {
      "cell_type": "code",
      "source": [
        "import cv2\n",
        "import numpy as np\n",
        "import math\n",
        "import matplotlib\n",
        "from matplotlib import pyplot as plt # Will use matplotlib for showing the image\n",
        "%matplotlib inline \n",
        "\n",
        "image = cv2.imread('download.jpeg')\n",
        "\n",
        "image = cv2.resize(image, (300, 300))\n",
        "image = cv2.cvtColor(image, cv2.COLOR_BGR2RGB)\n",
        "\n",
        "B = image[:,:,0:1]\n",
        "\n",
        "G = image[:,:,1:2]\n",
        "\n",
        "R = image[:,:,2:3]\n",
        "\n",
        "plt.axis(\"off\")\n",
        "plt.title('R Component')\n",
        "plt.imshow(R)\n",
        "plt.show()\n",
        "plt.axis(\"off\")\n",
        "plt.title('G Component')\n",
        "plt.imshow(G)\n",
        "plt.show()\n",
        "plt.axis(\"off\")\n",
        "plt.title('B Component')\n",
        "plt.imshow(B)\n",
        "plt.show()"
      ],
      "metadata": {
        "id": "9AImWkZKugiu"
      },
      "execution_count": null,
      "outputs": []
    },
    {
      "cell_type": "markdown",
      "source": [
        "**CMY MODEL**"
      ],
      "metadata": {
        "id": "oYayWpiUupkG"
      }
    },
    {
      "cell_type": "code",
      "source": [
        "C = 255 - R\n",
        "M = 255 - G\n",
        "Y = 255 - B"
      ],
      "metadata": {
        "id": "lFQQhUXXui_h"
      },
      "execution_count": null,
      "outputs": []
    },
    {
      "cell_type": "code",
      "source": [
        "plt.axis(\"off\")\n",
        "plt.title('C Component')\n",
        "plt.imshow(C)\n",
        "plt.show()\n",
        "plt.axis(\"off\")\n",
        "plt.title('M Component')\n",
        "plt.imshow(M)\n",
        "plt.show()\n",
        "plt.axis(\"off\")\n",
        "plt.title('Y Component')\n",
        "plt.imshow(Y)\n",
        "plt.show()"
      ],
      "metadata": {
        "id": "63BKNg6lusW6"
      },
      "execution_count": null,
      "outputs": []
    },
    {
      "cell_type": "markdown",
      "source": [
        "**YIQ MODEL**"
      ],
      "metadata": {
        "id": "hjzja7k9u0qf"
      }
    },
    {
      "cell_type": "code",
      "source": [
        "Y = 0.299*R + 0.587*G + 0.114*B\n",
        "I = 0.596*R - 0.275*G - 0.321*B\n",
        "Q = 0.212*R - 0.523*G + 0.311*B "
      ],
      "metadata": {
        "id": "5VYyncQHu3XC"
      },
      "execution_count": null,
      "outputs": []
    },
    {
      "cell_type": "code",
      "source": [
        "plt.axis(\"off\")\n",
        "plt.title('Y Component')\n",
        "plt.imshow(Y)\n",
        "plt.show()\n",
        "plt.axis(\"off\")\n",
        "plt.title('I Component')\n",
        "plt.imshow(I)\n",
        "plt.show()\n",
        "plt.axis(\"off\")\n",
        "plt.title('Q Component')\n",
        "plt.imshow(Q)\n",
        "plt.show()"
      ],
      "metadata": {
        "id": "Tmm70IICu6Dh"
      },
      "execution_count": null,
      "outputs": []
    },
    {
      "cell_type": "markdown",
      "source": [
        "**YUQ MODEL**"
      ],
      "metadata": {
        "id": "xgwwCB_Hu70u"
      }
    },
    {
      "cell_type": "code",
      "source": [
        "Y = 0.299 * R + 0.587 * G + 0.114 * B\n",
        "U = 0.493 * (B - Y )\n",
        "V = 0.877 * (R - Y )"
      ],
      "metadata": {
        "id": "47XaCHDOvA0g"
      },
      "execution_count": null,
      "outputs": []
    },
    {
      "cell_type": "code",
      "source": [
        "plt.axis(\"off\")\n",
        "plt.title('Y Component')\n",
        "plt.imshow(Y)\n",
        "plt.show()\n",
        "plt.axis(\"off\")\n",
        "plt.title('U Component')\n",
        "plt.imshow(U)\n",
        "plt.show()\n",
        "plt.axis(\"off\")\n",
        "plt.title('V Component')\n",
        "plt.imshow(V)\n",
        "plt.show()"
      ],
      "metadata": {
        "id": "0y7KeXervBea"
      },
      "execution_count": null,
      "outputs": []
    },
    {
      "cell_type": "markdown",
      "source": [
        "**HIS/HSI MODEL**"
      ],
      "metadata": {
        "id": "OSZEol74vDge"
      }
    },
    {
      "cell_type": "code",
      "source": [
        "def RGB_TO_HSI(img):\n",
        "\n",
        "    with np.errstate(divide='ignore', invalid='ignore'):\n",
        "\n",
        "        #Load image with 32 bit floats as variable type\n",
        "        bgr = np.float32(img)/255\n",
        "\n",
        "        #Separate color channels\n",
        "        blue = bgr[:,:,0]\n",
        "        green = bgr[:,:,1]\n",
        "        red = bgr[:,:,2]\n",
        "\n",
        "        #Calculate Intensity\n",
        "        def calc_intensity(red, blue, green):\n",
        "            return np.divide(blue + green + red, 3)\n",
        "\n",
        "        #Calculate Saturation\n",
        "        def calc_saturation(red, blue, green):\n",
        "            minimum = np.minimum(np.minimum(red, green), blue)\n",
        "            saturation = 1 - (3 / (red + green + blue + 0.001) * minimum)\n",
        "\n",
        "            return saturation\n",
        "\n",
        "        #Calculate Hue\n",
        "        def calc_hue(red, blue, green):\n",
        "            hue = np.copy(red)\n",
        "\n",
        "            for i in range(0, blue.shape[0]):\n",
        "                for j in range(0, blue.shape[1]):\n",
        "                    hue[i][j] = 0.5 * ((red[i][j] - green[i][j]) + (red[i][j] - blue[i][j])) / \\\n",
        "                                math.sqrt((red[i][j] - green[i][j])**2 +\n",
        "                                        ((red[i][j] - blue[i][j]) * (green[i][j] - blue[i][j])))\n",
        "                    hue[i][j] = math.acos(hue[i][j])\n",
        "\n",
        "                    if blue[i][j] <= green[i][j]:\n",
        "                        hue[i][j] = hue[i][j]\n",
        "                    else:\n",
        "                        hue[i][j] = ((360 * math.pi) / 180.0) - hue[i][j]\n",
        "\n",
        "            return hue\n",
        "       \n",
        "        return calc_hue(red, blue, green), calc_saturation(red, blue, green), calc_intensity(red, blue, green)"
      ],
      "metadata": {
        "id": "5quxBVuvvGqn"
      },
      "execution_count": null,
      "outputs": []
    },
    {
      "cell_type": "code",
      "source": [
        "img = cv2.imread('download.jpeg', 1)\n",
        "H, S, I = RGB_TO_HSI(img)"
      ],
      "metadata": {
        "id": "oM6gWradvQM9"
      },
      "execution_count": null,
      "outputs": []
    },
    {
      "cell_type": "code",
      "source": [
        "plt.axis(\"off\")\n",
        "plt.title('H Component')\n",
        "plt.imshow(H)\n",
        "plt.show()\n",
        "plt.axis(\"off\")\n",
        "plt.title('S Component')\n",
        "plt.imshow(S)\n",
        "plt.show()\n",
        "plt.axis(\"off\")\n",
        "plt.title('I Component')\n",
        "plt.imshow(I)\n",
        "plt.show()"
      ],
      "metadata": {
        "id": "TnJ2JO0BvQub"
      },
      "execution_count": null,
      "outputs": []
    },
    {
      "cell_type": "markdown",
      "source": [
        "**HCV MODEL**"
      ],
      "metadata": {
        "id": "6pgGVKRFvSgV"
      }
    },
    {
      "cell_type": "code",
      "source": [
        "plt.axis(\"off\")\n",
        "plt.title('H Component')\n",
        "plt.imshow(H)\n",
        "plt.show()\n",
        "plt.axis(\"off\")\n",
        "plt.title('C Component')\n",
        "plt.imshow(C)\n",
        "plt.show()\n",
        "plt.axis(\"off\")\n",
        "plt.title('V Component')\n",
        "plt.imshow(V)\n",
        "plt.show()"
      ],
      "metadata": {
        "id": "sD-yqf8hvcU4"
      },
      "execution_count": null,
      "outputs": []
    },
    {
      "cell_type": "markdown",
      "source": [
        "**HSV MODEL**"
      ],
      "metadata": {
        "id": "HyNwL6Pvvd0q"
      }
    },
    {
      "cell_type": "code",
      "source": [
        "plt.axis(\"off\")\n",
        "plt.title('H Component')\n",
        "plt.imshow(H)\n",
        "plt.show()\n",
        "plt.axis(\"off\")\n",
        "plt.title('S Component')\n",
        "plt.imshow(S)\n",
        "plt.show()\n",
        "plt.axis(\"off\")\n",
        "plt.title('V Component')\n",
        "plt.imshow(V)\n",
        "plt.show()"
      ],
      "metadata": {
        "id": "ZWebV6nNvik5"
      },
      "execution_count": null,
      "outputs": []
    },
    {
      "cell_type": "markdown",
      "source": [
        "# **COUNTERS**"
      ],
      "metadata": {
        "id": "djxFk4-SvkxQ"
      }
    },
    {
      "cell_type": "code",
      "source": [
        "import cv2 \n",
        "import numpy as np \n",
        "from google.colab.patches import cv2_imshow"
      ],
      "metadata": {
        "id": "yYqk-Mmov-ts"
      },
      "execution_count": null,
      "outputs": []
    },
    {
      "cell_type": "code",
      "source": [
        "image = cv2.imread('bubblingFish.jpg')\n",
        "gray = cv2.cvtColor(image, cv2.COLOR_BGR2GRAY) \n",
        "\n",
        "edged = cv2.Canny(gray, 30, 200) \n",
        "\n",
        "contours, hierarchy = cv2.findContours(edged, cv2.RETR_TREE, cv2.CHAIN_APPROX_SIMPLE)\n",
        "print(\"Canny Edges After Contouring\")\n",
        "cv2_imshow(edged)\n",
        "cv2.imwrite('CannyFish.jpg', edged)  \n",
        "\n",
        "print(\"Number of Contours: \" + str(len(contours))) "
      ],
      "metadata": {
        "id": "n4o-_yChwBaA"
      },
      "execution_count": null,
      "outputs": []
    },
    {
      "cell_type": "code",
      "source": [
        "cv2.drawContours(image, contours, -1, (0, 255, 0), 3) \n",
        "\n",
        "print(\"Contours\")\n",
        "cv2_imshow(image)\n",
        "cv2.imwrite('Contours.jpg', image)"
      ],
      "metadata": {
        "id": "2w-FHoIhwGFt"
      },
      "execution_count": null,
      "outputs": []
    },
    {
      "cell_type": "code",
      "source": [
        "image2 = cv2.imread('bubblingFish.jpg')\n",
        "if len(contours) != 0:\n",
        "\tc = max(contours, key = cv2.contourArea)\n",
        "cv2.drawContours(image2, c, -1, (0, 255, 0), 3)\n",
        "\n",
        "print(\"Largest Contour\")\n",
        "cv2_imshow(image2)\n",
        "cv2.imwrite('LargestContour.jpg', image2) "
      ],
      "metadata": {
        "id": "tGczih2WwH_m"
      },
      "execution_count": null,
      "outputs": []
    },
    {
      "cell_type": "markdown",
      "source": [
        "# **OTSU MODEL**"
      ],
      "metadata": {
        "id": "r-vicAoawLYk"
      }
    },
    {
      "cell_type": "code",
      "source": [
        "#Library Import\n",
        "import cv2\n",
        "from google.colab.patches import cv2_imshow\n",
        "import numpy as np\n",
        "import matplotlib.pyplot as plt\n",
        "%matplotlib auto\n",
        "import random"
      ],
      "metadata": {
        "id": "2hRsnXaHwbE5"
      },
      "execution_count": null,
      "outputs": []
    },
    {
      "cell_type": "code",
      "source": [
        "#Read the test image:\n",
        "image = cv2.imread('/content/Lenna.png', 0)\n",
        "print('Shape:', image.shape)\n",
        "print('Data type:', image.dtype)\n",
        "print('RGB Color Space')\n",
        "cv2_imshow(image)"
      ],
      "metadata": {
        "id": "Sm4mY4uWwcIg"
      },
      "execution_count": null,
      "outputs": []
    },
    {
      "cell_type": "code",
      "source": [
        "# Otsu's thresholding\n",
        "ret,img_otsu_binary = cv2.threshold(image,0,255,cv2.THRESH_BINARY+cv2.THRESH_OTSU)\n",
        "print('Estimated threshold (Otsu):', ret)"
      ],
      "metadata": {
        "id": "Xzc9nYtmwfFK"
      },
      "execution_count": null,
      "outputs": []
    },
    {
      "cell_type": "code",
      "source": [
        "print('original image')\n",
        "cv2_imshow(image)\n",
        "\n",
        "print('Otsu threshold')\n",
        "cv2_imshow(img_otsu_binary)"
      ],
      "metadata": {
        "id": "6XHZ7jbTwhXq"
      },
      "execution_count": null,
      "outputs": []
    },
    {
      "cell_type": "code",
      "source": [
        "# Load the test binary image:\n",
        "image = cv2.imread('/content/BnW.png', 0)\n",
        "print('Shape:', image.shape)\n",
        "print('Data type:', image.dtype)\n",
        "print('RGB Color Space')\n",
        "cv2_imshow(image)"
      ],
      "metadata": {
        "id": "-xZ9fW73wmeI"
      },
      "execution_count": null,
      "outputs": []
    },
    {
      "cell_type": "code",
      "source": [
        "contours, hierarchy = cv2.findContours(image, cv2.RETR_CCOMP, cv2.CHAIN_APPROX_SIMPLE)"
      ],
      "metadata": {
        "id": "5NK8Xm8DwpF9"
      },
      "execution_count": null,
      "outputs": []
    },
    {
      "cell_type": "code",
      "source": [
        "# Prepare the external contour binary mask:\n",
        "\n",
        "image_external = np.zeros(image.shape, image.dtype)\n",
        "for i in range(len(contours)):\n",
        "    if hierarchy[0][i][3] == -1:\n",
        "        cv2.drawContours(image_external, contours, i, 255, -1)"
      ],
      "metadata": {
        "id": "DPl_svHvwq-5"
      },
      "execution_count": null,
      "outputs": []
    },
    {
      "cell_type": "code",
      "source": [
        "# Prepare the internal contour binary mask:\n",
        "\n",
        "image_internal = np.zeros(image.shape, image.dtype)\n",
        "for i in range(len(contours)):\n",
        "    if hierarchy[0][i][3] != -1:\n",
        "        cv2.drawContours(image_internal, contours, i, 255, -1)"
      ],
      "metadata": {
        "id": "CwWC5H01wrcm"
      },
      "execution_count": null,
      "outputs": []
    },
    {
      "cell_type": "code",
      "source": [
        "#Visualize the results:\n",
        "\n",
        "plt.figure(figsize=(10,3))\n",
        "plt.subplot(131)\n",
        "plt.axis('off')\n",
        "plt.title('original')\n",
        "plt.imshow(image, cmap='gray')\n",
        "plt.subplot(132)\n",
        "plt.axis('off')\n",
        "plt.title('external')\n",
        "plt.imshow(image_external, cmap='gray')\n",
        "plt.subplot(133)\n",
        "plt.axis('off')\n",
        "plt.title('internal')\n",
        "plt.imshow(image_internal, cmap='gray')\n",
        "plt.tight_layout()\n",
        "plt.show()"
      ],
      "metadata": {
        "id": "tPyN9IDnwusT"
      },
      "execution_count": null,
      "outputs": []
    },
    {
      "cell_type": "code",
      "source": [
        "print('original image')\n",
        "cv2_imshow(image)\n",
        "\n",
        "print('external')\n",
        "cv2_imshow(image_external)\n",
        "\n",
        "print('internal')\n",
        "cv2_imshow(image_internal)"
      ],
      "metadata": {
        "id": "ii8j8rZjwvJE"
      },
      "execution_count": null,
      "outputs": []
    },
    {
      "cell_type": "markdown",
      "source": [
        "# **CONVEX HULL**"
      ],
      "metadata": {
        "id": "0KbP-h0dw1Ru"
      }
    },
    {
      "cell_type": "code",
      "source": [
        "# Find the convex hull for the contour, draw it on the image, and display it:\n",
        "\n",
        "hull = cv2.convexHull(contour)\n",
        "cv2.drawContours(color, [hull], -1, (0,0,255), 3)\n",
        "\n",
        "print('contours')\n",
        "cv2_imshow(color)"
      ],
      "metadata": {
        "id": "V78hPkC8w3Zy"
      },
      "execution_count": null,
      "outputs": []
    },
    {
      "cell_type": "code",
      "source": [
        "# Check the convexity of the contour and its hull:\n",
        "\n",
        "print('Convex status of contour is %s' % cv2.isContourConvex(contour))\n",
        "print('Convex status of its hull is %s' % cv2.isContourConvex(hull))"
      ],
      "metadata": {
        "id": "duDhcMHbw5OT"
      },
      "execution_count": null,
      "outputs": []
    },
    {
      "cell_type": "code",
      "source": [
        "import cv2\n",
        "# Load the image\n",
        "img1 = cv2.imread('/content/cars.jpg', cv2.IMREAD_GRAYSCALE)\n",
        "# Convert it to greyscale\n",
        "#img = cv2.cvtColor(img1, cv2.COLOR_BGR2GRAY)\n",
        "# Threshold the image\n",
        "ret, thresh = cv2.threshold(img1,50,255,0)\n",
        "# Find the contours\n",
        "contours, hierarchy = cv2.findContours(thresh, cv2.RETR_TREE, cv2.CHAIN_APPROX_SIMPLE)\n",
        "# For each contour, find the convex hull and draw it\n",
        "# on the original image.\n",
        "for i in range(len(contours)):\n",
        "    hull = cv2.convexHull(contours[i])\n",
        "    cv2.drawContours(img1, [hull], -1, (255, 0, 0), 2)\n",
        "# Display the final convex hull image\n",
        "cv2_imshow(img1)\n"
      ],
      "metadata": {
        "id": "Af7JOCYnw9S2"
      },
      "execution_count": null,
      "outputs": []
    },
    {
      "cell_type": "markdown",
      "source": [
        "# **MERGE 2 IMAGES**"
      ],
      "metadata": {
        "id": "M_0n9LDxxA1o"
      }
    },
    {
      "cell_type": "code",
      "source": [
        "# Load the image\n",
        "img = cv2.imread('/content/pineapple.jpg', 0)\n",
        "#img = cv2.cvtColor(img, cv2.COLOR_BGR2RGB)\n",
        "print('Shape:', img.shape)\n",
        "print('Data type:', img.dtype)\n",
        "print('RGB Color Space')\n",
        "cv2_imshow(img)"
      ],
      "metadata": {
        "id": "l9GOEoe9xasO"
      },
      "execution_count": null,
      "outputs": []
    },
    {
      "cell_type": "code",
      "source": [
        "# Otsu's thresholding\n",
        "ret,img_otsu_binary = cv2.threshold(img,0,255,cv2.THRESH_BINARY+cv2.THRESH_OTSU)\n",
        "print('Estimated threshold (Otsu):', ret)"
      ],
      "metadata": {
        "id": "znBUvzc2xehW"
      },
      "execution_count": null,
      "outputs": []
    },
    {
      "cell_type": "code",
      "source": [
        "print('original image')\n",
        "cv2_imshow(img)\n",
        "\n",
        "print('Otsu threshold')\n",
        "cv2_imshow(img_otsu_binary)"
      ],
      "metadata": {
        "id": "dEmGqi5vxkbA"
      },
      "execution_count": null,
      "outputs": []
    },
    {
      "cell_type": "code",
      "source": [
        "_, thresh = cv2.threshold(img_otsu_binary, 184, 255,cv2.THRESH_BINARY_INV)"
      ],
      "metadata": {
        "id": "dF-Dfu4-xk_C"
      },
      "execution_count": null,
      "outputs": []
    },
    {
      "cell_type": "code",
      "source": [
        "print('THRESH_BINARY_INV')\n",
        "cv2_imshow(thresh)"
      ],
      "metadata": {
        "id": "jHcrhIrXxnrK"
      },
      "execution_count": null,
      "outputs": []
    },
    {
      "cell_type": "code",
      "source": [
        "# Find the contour of the figure \n",
        "contours, hierarchy = cv2.findContours(\n",
        "                                   image = thresh, \n",
        "                                   mode = cv2.RETR_TREE, \n",
        "                                   method = cv2.CHAIN_APPROX_SIMPLE)"
      ],
      "metadata": {
        "id": "50bSWyoAxrMV"
      },
      "execution_count": null,
      "outputs": []
    },
    {
      "cell_type": "code",
      "source": [
        "# Sort the contours \n",
        "contours = sorted(contours, key = cv2.contourArea, reverse = True)\n",
        "# Draw the contour \n",
        "img_copy = img.copy()\n",
        "final = cv2.drawContours(img_copy, contours, contourIdx = -1, \n",
        "                         color = (255, 0, 0), thickness = 2)"
      ],
      "metadata": {
        "id": "Y-_rir8PxrtP"
      },
      "execution_count": null,
      "outputs": []
    },
    {
      "cell_type": "code",
      "source": [
        "#plt.imshow(img_copy)\n",
        "print('Image with contour')\n",
        "cv2_imshow(img_copy)"
      ],
      "metadata": {
        "id": "9PXo0lzAxtiP"
      },
      "execution_count": null,
      "outputs": []
    },
    {
      "cell_type": "markdown",
      "source": [
        "# **COIN EDGE DETECTION - OTSU**"
      ],
      "metadata": {
        "id": "sxE42A1UyEh6"
      }
    },
    {
      "cell_type": "code",
      "source": [
        "#Read the test image:\n",
        "image = cv2.imread('/content/watershed_coins_01_contour.jpg', 0)\n",
        "print('Shape:', image.shape)\n",
        "print('Data type:', image.dtype)\n",
        "print('RGB Color Space')\n",
        "cv2_imshow(image)"
      ],
      "metadata": {
        "id": "rFHyig7kyHJ3"
      },
      "execution_count": null,
      "outputs": []
    },
    {
      "cell_type": "code",
      "source": [
        "# Otsu's thresholding\n",
        "ret,img_otsu_binary = cv2.threshold(image,0,255,cv2.THRESH_BINARY+cv2.THRESH_OTSU)\n",
        "print('Estimated threshold (Otsu):', ret)\n",
        "\n",
        "\n",
        "\n",
        "print('original image')\n",
        "cv2_imshow(image)\n",
        "\n",
        "print('Otsu threshold')\n",
        "cv2_imshow(img_otsu_binary)"
      ],
      "metadata": {
        "id": "wF1bpdowyMEs"
      },
      "execution_count": null,
      "outputs": []
    },
    {
      "cell_type": "code",
      "source": [
        "# Find the contours of the loaded image, draw them, and show the result:\n",
        "\n",
        "contours, hierarchy = cv2.findContours(img_otsu_binary, cv2.RETR_EXTERNAL, cv2.CHAIN_APPROX_SIMPLE)\n",
        "#contours, hierarchy = cv2.findContours(im_bw, cv2.RETR_TREE, cv2.CHAIN_APPROX_SIMPLE)\n",
        "\n",
        "\n",
        "# loop over the contours\n",
        "for (i, c) in enumerate(contours):\n",
        "\t# draw the contour\n",
        "\t((x, y), _) = cv2.minEnclosingCircle(c)\n",
        "\tcv2.putText(img_otsu_binary, \"#{}\".format(i + 1), (int(x) - 10, int(y)),\n",
        "\t\tcv2.FONT_HERSHEY_SIMPLEX, 0.6, (0, 0, 255), 2)\n",
        "\tcv2.drawContours(img_otsu_binary, [c], -1, (0, 255, 0), 2)\n",
        "\n",
        "\n",
        "print('Number of Coins using - Thresholding and Contour Detections ')\n",
        "cv2_imshow(img_otsu_binary)"
      ],
      "metadata": {
        "id": "ntrIQySbyMsP"
      },
      "execution_count": null,
      "outputs": []
    },
    {
      "cell_type": "markdown",
      "source": [
        "# **MORPHOLOGICAL TRANSFORMATIONS**"
      ],
      "metadata": {
        "id": "-WXoB3hUyQZi"
      }
    },
    {
      "cell_type": "markdown",
      "source": [
        "**EROSION**"
      ],
      "metadata": {
        "id": "rSHYt1cHyYRJ"
      }
    },
    {
      "cell_type": "code",
      "source": [
        "img = cv2.imread('j.png',0)\n",
        "kernel = np.ones((5,5),np.uint8)\n",
        "#dilation = cv2.dilate(img,kernel,iterations = 1)\n",
        "erosion = cv2.erode(img, kernel, iterations=1)\n",
        "\n",
        "print('Eroded image')\n",
        "cv2_imshow(erosion)"
      ],
      "metadata": {
        "id": "J4zhohx5yVcq"
      },
      "execution_count": null,
      "outputs": []
    },
    {
      "cell_type": "markdown",
      "source": [
        "**DIALATION**"
      ],
      "metadata": {
        "id": "2FkBIIwKywTA"
      }
    },
    {
      "cell_type": "code",
      "source": [
        "img = cv2.imread('j.png',0)\n",
        "kernel = np.ones((5,5),np.uint8)\n",
        "dilation = cv2.dilate(img,kernel,iterations = 1)\n",
        "\n",
        "print('Dilated image')\n",
        "cv2_imshow(dilation)"
      ],
      "metadata": {
        "id": "J_n0OF6Myc0y"
      },
      "execution_count": null,
      "outputs": []
    },
    {
      "cell_type": "markdown",
      "source": [
        "# **WATERSHED ALGORITHM**"
      ],
      "metadata": {
        "id": "BxAjXH6wyejE"
      }
    },
    {
      "cell_type": "code",
      "source": [
        "#import the necessary libraries\n",
        "import cv2\n",
        "import numpy as np\n",
        "import skimage\n",
        "from skimage.feature import peak_local_max\n",
        "from scipy import ndimage as ndi\n",
        "\n",
        "import matplotlib.pyplot as plt\n",
        "from google.colab.patches import cv2_imshow"
      ],
      "metadata": {
        "id": "8c796r2Lyy8T"
      },
      "execution_count": null,
      "outputs": []
    },
    {
      "cell_type": "code",
      "source": [
        "# creating a simple binary image of two partially overlapping circles\n",
        "img = np.zeros((256, 256),dtype=\"uint8\")\n",
        "cv2.circle(img, (70,70), 50, (255,255,255), (-1))\n",
        "cv2.circle(img, (140,140), 70, (255,255,255), (-1))\n",
        "cv2_imshow(img)"
      ],
      "metadata": {
        "id": "9fRR0eEcy1Uo"
      },
      "execution_count": null,
      "outputs": []
    },
    {
      "cell_type": "code",
      "source": [
        "dist_transform = cv2.distanceTransform(img, cv2.DIST_L2,3)\n",
        "cv2_imshow(dist_transform)"
      ],
      "metadata": {
        "id": "BnccI1gxyhMY"
      },
      "execution_count": null,
      "outputs": []
    },
    {
      "cell_type": "code",
      "source": [
        "local_max_location = peak_local_max(dist_transform, min_distance=1, indices=True)\n",
        "local_max_boolean = peak_local_max(dist_transform, min_distance=1, indices=False)\n",
        "\n",
        "print(local_max_boolean)"
      ],
      "metadata": {
        "id": "a4Il0IMRzinb"
      },
      "execution_count": null,
      "outputs": []
    },
    {
      "cell_type": "code",
      "source": [
        "img1 = np.zeros((7, 7))\n",
        "img1[2, 2] = 4\n",
        "img1[2, 4] = 7\n",
        "print(img1)"
      ],
      "metadata": {
        "id": "09z_MXSgzkio"
      },
      "execution_count": null,
      "outputs": []
    },
    {
      "cell_type": "code",
      "source": [
        "peak_local_max(img1, min_distance=1)"
      ],
      "metadata": {
        "id": "Zuac6RaDznsi"
      },
      "execution_count": null,
      "outputs": []
    },
    {
      "cell_type": "code",
      "source": [
        "peak_local_max(img1, min_distance=2)"
      ],
      "metadata": {
        "id": "kBBBDa5_zoMB"
      },
      "execution_count": null,
      "outputs": []
    },
    {
      "cell_type": "code",
      "source": [
        "markers, _ = ndi.label(local_max_boolean)"
      ],
      "metadata": {
        "id": "pol0Qe5cyj5W"
      },
      "execution_count": null,
      "outputs": []
    },
    {
      "cell_type": "code",
      "source": [
        "segmented = skimage.segmentation.watershed(255-dist_transform, markers, mask=img)"
      ],
      "metadata": {
        "id": "rNG5bxO6ynD7"
      },
      "execution_count": null,
      "outputs": []
    },
    {
      "cell_type": "code",
      "source": [
        "fig, axes = plt.subplots(ncols=3, figsize=(9, 3), sharex=True, sharey=True)\n",
        "ax = axes.ravel()\n",
        "\n",
        "ax[0].imshow(img, cmap=plt.cm.gray)\n",
        "ax[0].set_title('Input image')\n",
        "ax[1].imshow(-dist_transform, cmap=plt.cm.gray)\n",
        "ax[1].set_title('Distance transform')\n",
        "ax[2].imshow(segmented, cmap=plt.cm.nipy_spectral)\n",
        "ax[2].set_title('Separated objects')\n",
        "\n",
        "for a in ax:\n",
        "    a.set_axis_off()\n",
        "\n",
        "fig.tight_layout()\n",
        "plt.show()"
      ],
      "metadata": {
        "id": "cHbIvVP-ynoV"
      },
      "execution_count": null,
      "outputs": []
    },
    {
      "cell_type": "markdown",
      "source": [
        "# **LOGO EXTRACTION**"
      ],
      "metadata": {
        "id": "i10PTmia0Rsa"
      }
    },
    {
      "cell_type": "code",
      "source": [
        "import cv2\n",
        "from google.colab.patches import cv2_imshow\n",
        "import numpy as np"
      ],
      "metadata": {
        "id": "lxJd8Cq60VEa"
      },
      "execution_count": null,
      "outputs": []
    },
    {
      "cell_type": "code",
      "source": [
        "#Colour Image\n",
        "img = cv2.imread(\"MAHE.png\")\n",
        "print(\"MAHE Colour image\")\n",
        "#cv2_imshow(img)\n",
        "    \n",
        "# It converts the BGR color space of image to HSV color space\n",
        "hsv = cv2.cvtColor(img, cv2.COLOR_BGR2HSV)\n",
        "     \n",
        "# Threshold of blue in HSV space\n",
        "lower_orange = np.array([1, 90, 90])\n",
        "#lower_blue = np.array([125, 0, 0])\n",
        "upper_orange = np.array([18, 255, 255])\n",
        "#upper_blue = np.array([255, 0, 0])\n",
        " \n",
        "# preparing the mask to overlay\n",
        "mask = cv2.inRange(hsv, lower_orange, upper_orange)\n",
        "#mask = cv2.inRange(img, lower_orange, upper_orange)\n",
        "     \n",
        "# The black region in the mask has the value of 0, so when multiplied with original image removes all non-blue regions\n",
        "result = cv2.bitwise_and(img, img, mask = mask)\n",
        "cv2_imshow(img)\n",
        "print(\"MAHE Orange Mask image\")\n",
        "cv2_imshow(mask)\n",
        "print(\"MAHE Final image\")\n",
        "cv2_imshow(result)"
      ],
      "metadata": {
        "id": "E7KHoM2t0W_R",
        "colab": {
          "base_uri": "https://localhost:8080/",
          "height": 253
        },
        "outputId": "c17b4fc2-be3b-429e-aa8a-d63bfbb1c444"
      },
      "execution_count": 7,
      "outputs": [
        {
          "output_type": "stream",
          "name": "stdout",
          "text": [
            "MAHE Colour image\n"
          ]
        },
        {
          "output_type": "error",
          "ename": "error",
          "evalue": "ignored",
          "traceback": [
            "\u001b[0;31m---------------------------------------------------------------------------\u001b[0m",
            "\u001b[0;31merror\u001b[0m                                     Traceback (most recent call last)",
            "\u001b[0;32m<ipython-input-7-7fca6322ffff>\u001b[0m in \u001b[0;36m<module>\u001b[0;34m()\u001b[0m\n\u001b[1;32m      5\u001b[0m \u001b[0;34m\u001b[0m\u001b[0m\n\u001b[1;32m      6\u001b[0m \u001b[0;31m# It converts the BGR color space of image to HSV color space\u001b[0m\u001b[0;34m\u001b[0m\u001b[0;34m\u001b[0m\u001b[0;34m\u001b[0m\u001b[0m\n\u001b[0;32m----> 7\u001b[0;31m \u001b[0mhsv\u001b[0m \u001b[0;34m=\u001b[0m \u001b[0mcv2\u001b[0m\u001b[0;34m.\u001b[0m\u001b[0mcvtColor\u001b[0m\u001b[0;34m(\u001b[0m\u001b[0mimg\u001b[0m\u001b[0;34m,\u001b[0m \u001b[0mcv2\u001b[0m\u001b[0;34m.\u001b[0m\u001b[0mCOLOR_BGR2HSV\u001b[0m\u001b[0;34m)\u001b[0m\u001b[0;34m\u001b[0m\u001b[0;34m\u001b[0m\u001b[0m\n\u001b[0m\u001b[1;32m      8\u001b[0m \u001b[0;34m\u001b[0m\u001b[0m\n\u001b[1;32m      9\u001b[0m \u001b[0;31m# Threshold of blue in HSV space\u001b[0m\u001b[0;34m\u001b[0m\u001b[0;34m\u001b[0m\u001b[0;34m\u001b[0m\u001b[0m\n",
            "\u001b[0;31merror\u001b[0m: OpenCV(4.1.2) /io/opencv/modules/imgproc/src/color.cpp:182: error: (-215:Assertion failed) !_src.empty() in function 'cvtColor'\n"
          ]
        }
      ]
    },
    {
      "cell_type": "code",
      "source": [
        "#Colour Image\n",
        "img = cv2.imread(\"MAHE.png\")\n",
        "print(\"MAHE Colour image\")\n",
        "#cv2_imshow(img)\n",
        "    \n",
        "# It converts the BGR color space of image to HSV color space\n",
        "hsv = cv2.cvtColor(img, cv2.COLOR_BGR2HSV)\n",
        "     \n",
        "# Threshold of blue in HSV space\n",
        "lower_orange = np.array([0, 0, 0])\n",
        "#lower_blue = np.array([125, 0, 0])\n",
        "upper_orange = np.array([0,0,0])\n",
        "#upper_blue = np.array([255, 0, 0])\n",
        " \n",
        "# preparing the mask to overlay\n",
        "#mask = cv2.inRange(hsv, lower_orange, upper_orange)\n",
        "mask = cv2.inRange(img, lower_orange, upper_orange)\n",
        "     \n",
        "# The black region in the mask has the value of 0, so when multiplied with original image removes all non-blue regions\n",
        "cv2_imshow(img)\n",
        "cv2_imshow(mask)\n",
        "print(\"MAHE Final image\")\n",
        "mask= 255-mask\n",
        "cv2_imshow(mask)"
      ],
      "metadata": {
        "id": "xyek8tSl0bnb"
      },
      "execution_count": null,
      "outputs": []
    },
    {
      "cell_type": "code",
      "source": [
        "import cv2\n",
        "from google.colab.patches import cv2_imshow\n",
        "import numpy as np"
      ],
      "metadata": {
        "id": "7RInCSsV01ho"
      },
      "execution_count": null,
      "outputs": []
    },
    {
      "cell_type": "code",
      "source": [
        "#Colour Image\n",
        "img = cv2.imread(\"/content/MAHE.png\")\n",
        "print(\"Lena Colour image\")\n",
        "#cv2_imshow(img)\n",
        "    \n",
        "# It converts the BGR color space of image to HSV color space\n",
        "hsv = cv2.cvtColor(img, cv2.COLOR_BGR2HSV)\n",
        "     \n",
        "# Threshold of blue in HSV space\n",
        "lower_blue = np.array([5, 0, 0])\n",
        "#lower_blue = np.array([, 0, 0])\n",
        "upper_blue = np.array([30, 255, 255])\n",
        "#upper_blue = np.array([, 0, 0])\n",
        " \n",
        "# preparing the mask to overlay\n",
        "mask = cv2.inRange(hsv, lower_blue, upper_blue)\n",
        "#mask = cv2.inRange(img, lower_blue, upper_blue)\n",
        "     \n",
        "# The black region in the mask has the value of 0, so when multiplied with original image removes all non-blue regions\n",
        "result = cv2.bitwise_and(img, img, mask = mask)\n",
        "print(\"Manipal Logo with Text\")\n",
        "cv2_imshow(img)\n",
        "print(\"Mask for manipal logo\")\n",
        "cv2_imshow(mask)\n",
        "print(\"Manipal Logo\")\n",
        "cv2_imshow(result)"
      ],
      "metadata": {
        "id": "85t_uewb03wo"
      },
      "execution_count": null,
      "outputs": []
    },
    {
      "cell_type": "code",
      "source": [
        "#Colour Image\n",
        "img = cv2.imread(\"MAHE.png\")\n",
        "print(\"MAHE Colour image\")\n",
        "#cv2_imshow(img)\n",
        "    \n",
        "# It converts the BGR color space of image to HSV color space\n",
        "hsv = cv2.cvtColor(img, cv2.COLOR_BGR2HSV)\n",
        "     \n",
        "# Threshold of blue in HSV space\n",
        "lower_orange = np.array([1, 180, 200])\n",
        "#lower_blue = np.array([125, 0, 0])\n",
        "upper_orange = np.array([18, 255, 255])\n",
        "#upper_blue = np.array([255, 0, 0])\n",
        " \n",
        "# preparing the mask to overlay\n",
        "mask = cv2.inRange(hsv, lower_orange, upper_orange)\n",
        "#mask = cv2.inRange(img, lower_orange, upper_orange)\n",
        "     \n",
        "# The black region in the mask has the value of 0, so when multiplied with original image removes all non-blue regions\n",
        "result = cv2.bitwise_and(img, img, mask = mask)\n",
        "cv2_imshow(img)\n",
        "print(\"MAHE Orange Mask image\")\n",
        "cv2_imshow(mask)\n",
        "print(\"MAHE Final image\")\n",
        "cv2_imshow(result)"
      ],
      "metadata": {
        "id": "E-QR-kUk04OG"
      },
      "execution_count": null,
      "outputs": []
    },
    {
      "cell_type": "code",
      "source": [
        "#Colour Image\n",
        "img = cv2.imread(\"MAHE.png\")\n",
        "print(\"MAHE Colour image\")\n",
        "#cv2_imshow(img)\n",
        "    \n",
        "# It converts the BGR color space of image to HSV color space\n",
        "hsv = cv2.cvtColor(img, cv2.COLOR_BGR2HSV)\n",
        "     \n",
        "# Threshold of blue in HSV space\n",
        "lower_orange = np.array([0, 0, 0])\n",
        "#lower_blue = np.array([125, 0, 0])\n",
        "upper_orange = np.array([0,0,0])\n",
        "#upper_blue = np.array([255, 0, 0])\n",
        " \n",
        "# preparing the mask to overlay\n",
        "#mask = cv2.inRange(hsv, lower_orange, upper_orange)\n",
        "mask = cv2.inRange(img, lower_orange, upper_orange)\n",
        "     \n",
        "# The black region in the mask has the value of 0, so when multiplied with original image removes all non-blue regions\n",
        "cv2_imshow(img)\n",
        "cv2_imshow(mask)\n",
        "print(\"MAHE Final image\")\n",
        "mask= 255-mask\n",
        "cv2_imshow(mask)"
      ],
      "metadata": {
        "id": "bJN2bSFc08dN"
      },
      "execution_count": null,
      "outputs": []
    },
    {
      "cell_type": "code",
      "source": [
        "\n",
        "#Function to create a blank image\n",
        "def create_blank(width, height, rgb_color=(0, 0, 0)):\n",
        "    \"\"\"Create new image(numpy array) filled with certain color in RGB\"\"\"\n",
        "    # Create black blank image\n",
        "    image = np.zeros((height, width, 3), np.uint8)\n",
        "\n",
        "    # Since OpenCV uses BGR, convert the color first\n",
        "    color = tuple(reversed(rgb_color))\n",
        "    # Fill image with color\n",
        "    image[:] = color\n",
        "\n",
        "    return image\n",
        "\n",
        "# Create new blank  red image\n",
        "image_dimension = img.shape\n",
        "height, width = image_dimension[1], image_dimension[0]\n",
        "\n",
        "red = (255, 0, 0)\n",
        "red_image = create_blank(height, width, rgb_color=red)\n",
        "cv2_imshow(red_image)"
      ],
      "metadata": {
        "id": "xG4kFKIW1BHE"
      },
      "execution_count": null,
      "outputs": []
    },
    {
      "cell_type": "code",
      "source": [
        "img = cv2.imread(\"/content/MAHE.png\")\n",
        "print(\"Manipal Logo\")\n",
        "#cv2_imshow(img)\n",
        "    \n",
        "# Convert image to HSV color space\n",
        "hsv = cv2.cvtColor(img, cv2.COLOR_BGR2HSV)\n",
        "     \n",
        "# Lower threshold to extract manipal logo\n",
        "lower_bound = np.array([0, 0, 0])\n",
        "\n",
        "# Upper threshold to extract manipal logo\n",
        "upper_bound = np.array([50, 50, 50])\n",
        "\n",
        " \n",
        "# preparing the mask to overlay\n",
        "mask = cv2.inRange(hsv, lower_bound, upper_bound)\n",
        "\n",
        "     \n",
        "# Multiply the mask with the original image to extract the logo\n",
        "result = cv2.bitwise_and(img, img, mask = mask)\n",
        "print(\"Manipal Logo with Text\")\n",
        "cv2_imshow(img)\n",
        "print(\"Mask to extract Manipal Logo\")\n",
        "cv2_imshow(mask)\n",
        "print(\"Extracted Manipal Logo\")\n",
        "cv2_imshow(result)\n",
        "\n",
        "#Use mask on a red colored image to properly see the extracted image\n",
        "text = cv2.bitwise_and(red_image,red_image, mask = mask)\n",
        "print(\"Extracted Text in Red\")\n",
        "cv2_imshow(text)"
      ],
      "metadata": {
        "id": "EOexdKfR1D1N"
      },
      "execution_count": null,
      "outputs": []
    },
    {
      "cell_type": "markdown",
      "source": [
        "# **COUNTER-ASSIGNMENT SHAPES**"
      ],
      "metadata": {
        "id": "TQYt6D515Pp8"
      }
    },
    {
      "cell_type": "code",
      "source": [
        "#Read the test image:\n",
        "image = cv2.imread('/content/shape-4-1.png', 0)\n",
        "print('Shape:', image.shape)\n",
        "print('Data type:', image.dtype)\n",
        "print('RGB Color Space')\n",
        "cv2_imshow(image)"
      ],
      "metadata": {
        "id": "IWguECaD5SMC"
      },
      "execution_count": null,
      "outputs": []
    },
    {
      "cell_type": "code",
      "source": [
        "image = cv2.imread('/content/MicrosoftTeams-image.png')\n",
        "gray = cv2.cvtColor(image, cv2.COLOR_BGR2GRAY) \n",
        "\n",
        "edged = cv2.Canny(gray, 30, 200) \n",
        "\n",
        "contours, hierarchy = cv2.findContours(edged, cv2.RETR_TREE, cv2.CHAIN_APPROX_SIMPLE)\n",
        "print(\"Canny Edges After Contouring\")\n",
        "cv2_imshow(edged)\n",
        "cv2.imwrite('CannyFish.jpg', edged)  \n",
        "\n",
        "print(\"Number of Contours: \" + str(len(contours))) "
      ],
      "metadata": {
        "id": "rxhL6iBd5bqR"
      },
      "execution_count": null,
      "outputs": []
    },
    {
      "cell_type": "code",
      "source": [
        "cv2.drawContours(image, contours, -1, (0, 255, 0), 3) \n",
        "\n",
        "print(\"Contours\")\n",
        "cv2_imshow(image)\n",
        "cv2.imwrite('/content/MicrosoftTeams-image.png', image)"
      ],
      "metadata": {
        "id": "H30rfk445f8_"
      },
      "execution_count": null,
      "outputs": []
    },
    {
      "cell_type": "code",
      "source": [
        "for contour in contours:\n",
        "    approx = cv2.approxPolyDP(contour, 0.01* cv2.arcLength(contour, True), True)\n",
        "    cv2.drawContours(image, [approx], 0, (0, 0, 0), 5)\n",
        "    x = approx.ravel()[0]\n",
        "    y = approx.ravel()[1] - 5\n",
        "    if len(approx) == 3:\n",
        "        cv2.putText( image, \"Triangle\", (x, y), cv2.FONT_HERSHEY_COMPLEX, 0.5, (0, 0, 0) )\n",
        "    elif len(approx) == 4 :\n",
        "        x, y , w, h = cv2.boundingRect(approx)\n",
        "        aspectRatio = float(w)/h\n",
        "        print(aspectRatio)\n",
        "        if aspectRatio >= 0.95 and aspectRatio < 1.05:\n",
        "            cv2.putText(image, \"square\", (x, y), cv2.FONT_HERSHEY_COMPLEX, 0.5, (0, 0, 0))\n",
        "\n",
        "        else:\n",
        "            cv2.putText(image, \"rectangle\", (x, y), cv2.FONT_HERSHEY_COMPLEX, 0.5, (0, 0, 0))\n",
        "\n",
        "    elif len(approx) == 5 :\n",
        "        cv2.putText(image, \"pentagon\", (x, y), cv2.FONT_HERSHEY_COMPLEX, 0.5, (0, 0, 0))\n",
        "    elif len(approx) == 10 :\n",
        "        cv2.putText(image, \"star\", (x, y), cv2.FONT_HERSHEY_COMPLEX, 0.5, (0, 0, 0))\n",
        "    else:\n",
        "        cv2.putText(image, \"circle\", (x, y), cv2.FONT_HERSHEY_COMPLEX, 0.5, (0, 0, 0))"
      ],
      "metadata": {
        "id": "MUuR0eYR5i1d"
      },
      "execution_count": null,
      "outputs": []
    },
    {
      "cell_type": "code",
      "source": [
        "cv2_imshow(image)\n",
        "cv2.waitKey(0)\n",
        "cv2.destroyAllWindows()"
      ],
      "metadata": {
        "id": "V8S3ncHb5nZX"
      },
      "execution_count": null,
      "outputs": []
    },
    {
      "cell_type": "markdown",
      "source": [
        "# **VIDEO KEY FRAME EXTRACTION**"
      ],
      "metadata": {
        "id": "80KkdQ7t549z"
      }
    },
    {
      "cell_type": "code",
      "source": [
        "pip install katna"
      ],
      "metadata": {
        "id": "9s8c5JOc-gl4"
      },
      "execution_count": null,
      "outputs": []
    },
    {
      "cell_type": "code",
      "source": [
        "from IPython.core.display import Video"
      ],
      "metadata": {
        "id": "sfR8pRpo-hhS"
      },
      "execution_count": null,
      "outputs": []
    },
    {
      "cell_type": "code",
      "source": [
        "from IPython.core.display import Video\n",
        "\n",
        "Video(\"/content/monkey.mp4\")"
      ],
      "metadata": {
        "id": "9GZMi58h-jsE"
      },
      "execution_count": null,
      "outputs": []
    },
    {
      "cell_type": "code",
      "source": [
        "# importing the library\n",
        "from Katna.video import Video\n",
        "from Katna.writer import KeyFrameDiskWriter\n",
        "import os\n",
        "\n",
        "# For windows, the below if condition is must.\n",
        "if __name__ == \"__main__\":\n",
        "\n",
        "    # initialize video module\n",
        "    vd = Video()\n",
        "\n",
        "    # number of images to be returned\n",
        "    no_of_frames_to_returned = 12\n",
        "\n",
        "    # initialize diskwriter to save data at desired location\n",
        "    diskwriter = KeyFrameDiskWriter(location=\"selectedframes\")\n",
        "\n",
        "    # Video file path\n",
        "    video_file_path = os.path.join(\"monkey.mp4\")\n",
        "\n",
        "    print(f\"Input video file path = {video_file_path}\")\n",
        "\n",
        "    # extract keyframes and process data with diskwriter\n",
        "    vd.extract_video_keyframes(\n",
        "       no_of_frames=no_of_frames_to_returned, file_path=video_file_path,\n",
        "       writer=diskwriter\n",
        "    )\n"
      ],
      "metadata": {
        "id": "8-zYJ0yD-oBk"
      },
      "execution_count": null,
      "outputs": []
    },
    {
      "cell_type": "code",
      "source": [
        "import matplotlib.pyplot as plt\n",
        "import cv2\n",
        "\n",
        "%matplotlib inline"
      ],
      "metadata": {
        "id": "Gm_lw4XI-0Ob"
      },
      "execution_count": null,
      "outputs": []
    },
    {
      "cell_type": "code",
      "source": [
        "print('Displaying the Extracted frames: ')\n",
        "frame_list = os.listdir('selectedframes/')\n",
        "base_path = 'selectedframes'\n",
        "\n",
        "for frame in sorted(frame_list):\n",
        "    img = cv2.imread(os.path.join(base_path, frame))\n",
        "    plt.imshow(img)\n",
        "    plt.title(frame.split('.')[0])\n",
        "    plt.axis('off')\n",
        "    plt.show()"
      ],
      "metadata": {
        "id": "0tGEt-yU-05n"
      },
      "execution_count": null,
      "outputs": []
    },
    {
      "cell_type": "markdown",
      "source": [
        "# **MAHE LOGIC EXTRACTION**"
      ],
      "metadata": {
        "id": "xl6H7VtTEdbF"
      }
    },
    {
      "cell_type": "code",
      "source": [
        "import cv2\n",
        "from google.colab.patches import cv2_imshow\n",
        "import numpy as np"
      ],
      "metadata": {
        "id": "iJaizgYDEqng"
      },
      "execution_count": 1,
      "outputs": []
    },
    {
      "cell_type": "code",
      "source": [
        "img = cv2.imread(\"/content/MAHE.jpg\")\n",
        "print(\"Manipal Logo\")\n",
        "#cv2_imshow(img)\n",
        "    \n",
        "# Convert image to HSV color space\n",
        "hsv = cv2.cvtColor(img, cv2.COLOR_BGR2HSV)\n",
        "     \n",
        "# Threshold of blue in HSV space\n",
        "lower_bound = np.array([1, 180, 100])\n",
        "#lower_blue = np.array([125, 0, 0])\n",
        "upper_bound = np.array([150, 255, 255])\n",
        "#upper_blue = np.array([255, 0, 0])\n",
        "\n",
        " \n",
        "# preparing the mask to overlay\n",
        "mask = cv2.inRange(hsv, lower_bound, upper_bound)\n",
        "\n",
        "     \n",
        "# Multiply the mask with the original image to extract the logo\n",
        "result = cv2.bitwise_and(img, img, mask = mask)\n",
        "print(\"Manipal Logo with Text\")\n",
        "cv2_imshow(img)\n",
        "print(\"Mask to extract Manipal Logo\")\n",
        "cv2_imshow(mask)\n",
        "print(\"Extracted Manipal Logo\")\n",
        "cv2_imshow(result)\n"
      ],
      "metadata": {
        "colab": {
          "base_uri": "https://localhost:8080/",
          "height": 617
        },
        "id": "UdWKXdcpEySr",
        "outputId": "de6253d1-3f98-4fef-fc17-e4c5bdc7eeb7"
      },
      "execution_count": 24,
      "outputs": [
        {
          "output_type": "stream",
          "name": "stdout",
          "text": [
            "Manipal Logo\n",
            "Manipal Logo with Text\n"
          ]
        },
        {
          "output_type": "display_data",
          "data": {
            "text/plain": [
              "<PIL.Image.Image image mode=RGB size=153x177 at 0x7FA08A085D10>"
            ],
            "image/png": "[encoded data removed]"
          },
          "metadata": {}
        },
        {
          "output_type": "stream",
          "name": "stdout",
          "text": [
            "Mask to extract Manipal Logo\n"
          ]
        },
        {
          "output_type": "display_data",
          "data": {
            "text/plain": [
              "<PIL.Image.Image image mode=L size=153x177 at 0x7FA08A159350>"
            ],
            "image/png": "[encoded data removed]"
          },
          "metadata": {}
        },
        {
          "output_type": "stream",
          "name": "stdout",
          "text": [
            "Extracted Manipal Logo\n"
          ]
        },
        {
          "output_type": "display_data",
          "data": {
            "text/plain": [
              "<PIL.Image.Image image mode=RGB size=153x177 at 0x7FA08A0AC410>"
            ],
            "image/png": "[encoded data removed]"
          },
          "metadata": {}
        }
      ]
    },
    {
      "cell_type": "code",
      "source": [
        "img = cv2.imread(\"/content/MAHE.jpg\")\n",
        "print(\"Manipal Logo\")\n",
        "#cv2_imshow(img)\n",
        "    \n",
        "# Convert image to HSV color space\n",
        "hsv = cv2.cvtColor(img, cv2.COLOR_BGR2HSV)\n",
        "     \n",
        "# Threshold of blue in HSV space\n",
        "lower_bound = np.array([0, 20, 70])\n",
        "#lower_blue = np.array([125, 0, 0])\n",
        "upper_bound = np.array([120,190, 255])\n",
        "#upper_blue = np.array([255, 0, 0])\n",
        "\n",
        " \n",
        "# preparing the mask to overlay\n",
        "mask = cv2.inRange(hsv, lower_bound, upper_bound)\n",
        "\n",
        "     \n",
        "# Multiply the mask with the original image to extract the logo\n",
        "result = cv2.bitwise_and(img, img, mask = mask)\n",
        "print(\"Manipal Logo with Text\")\n",
        "cv2_imshow(img)\n",
        "print(\"Mask to extract Manipal Logo\")\n",
        "cv2_imshow(mask)\n",
        "print(\"Extracted Manipal Logo\")\n",
        "cv2_imshow(result)"
      ],
      "metadata": {
        "colab": {
          "base_uri": "https://localhost:8080/",
          "height": 617
        },
        "id": "pdFk4ddhH80F",
        "outputId": "c0e4d42a-93d7-48e4-9246-4fee73a7395d"
      },
      "execution_count": 68,
      "outputs": [
        {
          "output_type": "stream",
          "name": "stdout",
          "text": [
            "Manipal Logo\n",
            "Manipal Logo with Text\n"
          ]
        },
        {
          "output_type": "display_data",
          "data": {
            "text/plain": [
              "<PIL.Image.Image image mode=RGB size=153x177 at 0x7FA096E5F810>"
            ],
            "image/png": "[encoded data removed]"
          },
          "metadata": {}
        },
        {
          "output_type": "stream",
          "name": "stdout",
          "text": [
            "Mask to extract Manipal Logo\n"
          ]
        },
        {
          "output_type": "display_data",
          "data": {
            "text/plain": [
              "<PIL.Image.Image image mode=L size=153x177 at 0x7FA08A0ACF10>"
            ],
            "image/png": "[encoded data removed]"
          },
          "metadata": {}
        },
        {
          "output_type": "stream",
          "name": "stdout",
          "text": [
            "Extracted Manipal Logo\n"
          ]
        },
        {
          "output_type": "display_data",
          "data": {
            "text/plain": [
              "<PIL.Image.Image image mode=RGB size=153x177 at 0x7FA08A1CFB90>"
            ],
            "image/png": "[encoded data removed]"
          },
          "metadata": {}
        }
      ]
    },
    {
      "cell_type": "code",
      "source": [
        "#Read png file\n",
        "img = cv2.imread(\"/content/MAHE.jpg\")\n",
        "print(\"Manipal Logo\")\n",
        "#cv2_imshow(img)\n",
        "\n",
        "\n",
        "    \n",
        "# Convert image to HSV color space\n",
        "hsv = cv2.cvtColor(img, cv2.COLOR_BGR2HSV)\n",
        "     \n",
        "# Lower threshold to extract manipal logo\n",
        "lower_bound = np.array([0, 0, 0])\n",
        "\n",
        "# Upper threshold to extract manipal logo\n",
        "upper_bound = np.array([50, 50, 50])\n",
        "\n",
        " \n",
        "# preparing the mask to overlay\n",
        "mask = cv2.inRange(hsv, lower_bound, upper_bound)\n",
        "\n",
        "     \n",
        "# Multiply the mask with the original image to extract the logo\n",
        "result = cv2.bitwise_and(img, img, mask = mask)\n",
        "print(\"Manipal Logo with Text\")\n",
        "cv2_imshow(img)\n",
        "print(\"Mask to extract Manipal Logo\")\n",
        "cv2_imshow(mask)\n",
        "print(\"Extracted Manipal Logo\")\n",
        "cv2_imshow(result)\n",
        "\n",
        "#Use mask on a red colored image to properly see the extracted image\n",
        "text = cv2.bitwise_and(red_image,red_image, mask = mask)\n",
        "print(\"Extracted Text in Red\")\n",
        "cv2_imshow(text)\n",
        "\n",
        "#Inverting the mask to extract text\n",
        "print(\"Inverted Mask\")\n",
        "cv2_imshow(255-mask)"
      ],
      "metadata": {
        "colab": {
          "base_uri": "https://localhost:8080/",
          "height": 1000
        },
        "id": "PCS9Jdu_RKRE",
        "outputId": "7b1e3c9f-f5cf-4c12-aedb-f24eefde0747"
      },
      "execution_count": 72,
      "outputs": [
        {
          "output_type": "stream",
          "name": "stdout",
          "text": [
            "Manipal Logo\n",
            "Manipal Logo with Text\n"
          ]
        },
        {
          "output_type": "display_data",
          "data": {
            "text/plain": [
              "<PIL.Image.Image image mode=RGB size=153x177 at 0x7FA08A0B7BD0>"
            ],
            "image/png": "[encoded data removed]"
          },
          "metadata": {}
        },
        {
          "output_type": "stream",
          "name": "stdout",
          "text": [
            "Mask to extract Manipal Logo\n"
          ]
        },
        {
          "output_type": "display_data",
          "data": {
            "text/plain": [
              "<PIL.Image.Image image mode=L size=153x177 at 0x7FA08A0918D0>"
            ],
            "image/png": "[encoded data removed]"
          },
          "metadata": {}
        },
        {
          "output_type": "stream",
          "name": "stdout",
          "text": [
            "Extracted Manipal Logo\n"
          ]
        },
        {
          "output_type": "display_data",
          "data": {
            "text/plain": [
              "<PIL.Image.Image image mode=RGB size=153x177 at 0x7FA08A053E10>"
            ],
            "image/png": "[encoded data removed]"
          },
          "metadata": {}
        },
        {
          "output_type": "stream",
          "name": "stdout",
          "text": [
            "Extracted Text in Red\n"
          ]
        },
        {
          "output_type": "display_data",
          "data": {
            "text/plain": [
              "<PIL.Image.Image image mode=RGB size=153x177 at 0x7FA08A053E50>"
            ],
            "image/png": "[encoded data removed]"
          },
          "metadata": {}
        },
        {
          "output_type": "stream",
          "name": "stdout",
          "text": [
            "Inverted Mask\n"
          ]
        },
        {
          "output_type": "display_data",
          "data": {
            "text/plain": [
              "<PIL.Image.Image image mode=L size=153x177 at 0x7FA08A053F10>"
            ],
            "image/png": "[encoded data removed]"
          },
          "metadata": {}
        }
      ]
    },
    {
      "cell_type": "markdown",
      "source": [
        "# **CANNY EDGE DETECTION**"
      ],
      "metadata": {
        "id": "34A1zorvVv21"
      }
    },
    {
      "cell_type": "code",
      "source": [
        "import numpy as np\n",
        "import cv2 as cv\n",
        "from matplotlib import pyplot as plt\n",
        "img = cv.imread('MAHE.jpg',0)\n",
        "edges = cv.Canny(img,100,200)\n",
        "plt.subplot(121),plt.imshow(img,cmap = 'gray')\n",
        "plt.title('Original Image'), plt.xticks([]), plt.yticks([])\n",
        "plt.subplot(122),plt.imshow(edges,cmap = 'gray')\n",
        "plt.title('Edge Image'), plt.xticks([]), plt.yticks([])\n",
        "plt.show()"
      ],
      "metadata": {
        "colab": {
          "base_uri": "https://localhost:8080/",
          "height": 226
        },
        "id": "vMZEE_l3VzEu",
        "outputId": "06e62318-4316-420d-d746-cff8aa27e2ad"
      },
      "execution_count": 73,
      "outputs": [
        {
          "output_type": "display_data",
          "data": {
            "text/plain": [
              "<Figure size 432x288 with 2 Axes>"
            ],
            "image/png": "[encoded data removed]"
          },
          "metadata": {}
        }
      ]
    },
    {
      "cell_type": "markdown",
      "source": [
        "# **Shape Detection USING CONTOURS**\n",
        "\n"
      ],
      "metadata": {
        "id": "EN4OXMTxt15b"
      }
    },
    {
      "cell_type": "code",
      "source": [
        "import cv2 \n",
        "import numpy as np \n",
        "from google.colab.patches import cv2_imshow"
      ],
      "metadata": {
        "id": "zlZZqOmjuWTA"
      },
      "execution_count": null,
      "outputs": []
    },
    {
      "cell_type": "code",
      "source": [
        "#Read the test image:\n",
        "image = cv2.imread('/content/shape-4-1.png', 0)\n",
        "print('Shape:', image.shape)\n",
        "print('Data type:', image.dtype)\n",
        "print('RGB Color Space')\n",
        "cv2_imshow(image)"
      ],
      "metadata": {
        "id": "ixjyAz9_uXF4"
      },
      "execution_count": null,
      "outputs": []
    },
    {
      "cell_type": "code",
      "source": [
        "image = cv2.imread('/content/MicrosoftTeams-image.png')\n",
        "gray = cv2.cvtColor(image, cv2.COLOR_BGR2GRAY) \n",
        "\n",
        "edged = cv2.Canny(gray, 30, 200) \n",
        "\n",
        "contours, hierarchy = cv2.findContours(edged, cv2.RETR_TREE, cv2.CHAIN_APPROX_SIMPLE)\n",
        "print(\"Canny Edges After Contouring\")\n",
        "cv2_imshow(edged)\n",
        "cv2.imwrite('CannyFish.jpg', edged)  \n",
        "\n",
        "print(\"Number of Contours: \" + str(len(contours))) "
      ],
      "metadata": {
        "id": "_RqUv9Pkub5K"
      },
      "execution_count": null,
      "outputs": []
    },
    {
      "cell_type": "code",
      "source": [
        "cv2.drawContours(image, contours, -1, (0, 255, 0), 3) \n",
        "\n",
        "print(\"Contours\")\n",
        "cv2_imshow(image)\n",
        "cv2.imwrite('/content/MicrosoftTeams-image.png', image)"
      ],
      "metadata": {
        "id": "wGkdH10eueVw"
      },
      "execution_count": null,
      "outputs": []
    },
    {
      "cell_type": "code",
      "source": [
        "for contour in contours:\n",
        "    approx = cv2.approxPolyDP(contour, 0.01* cv2.arcLength(contour, True), True)\n",
        "    cv2.drawContours(image, [approx], 0, (0, 0, 0), 5)\n",
        "    x = approx.ravel()[0]\n",
        "    y = approx.ravel()[1] - 5\n",
        "    if len(approx) == 3:\n",
        "        cv2.putText( image, \"Triangle\", (x, y), cv2.FONT_HERSHEY_COMPLEX, 0.5, (0, 0, 0) )\n",
        "    elif len(approx) == 4 :\n",
        "        x, y , w, h = cv2.boundingRect(approx)\n",
        "        aspectRatio = float(w)/h\n",
        "        print(aspectRatio)\n",
        "        if aspectRatio >= 0.95 and aspectRatio < 1.05:\n",
        "            cv2.putText(image, \"square\", (x, y), cv2.FONT_HERSHEY_COMPLEX, 0.5, (0, 0, 0))\n",
        "\n",
        "        else:\n",
        "            cv2.putText(image, \"rectangle\", (x, y), cv2.FONT_HERSHEY_COMPLEX, 0.5, (0, 0, 0))\n",
        "\n",
        "    elif len(approx) == 5 :\n",
        "        cv2.putText(image, \"pentagon\", (x, y), cv2.FONT_HERSHEY_COMPLEX, 0.5, (0, 0, 0))\n",
        "    elif len(approx) == 10 :\n",
        "        cv2.putText(image, \"star\", (x, y), cv2.FONT_HERSHEY_COMPLEX, 0.5, (0, 0, 0))\n",
        "    else:\n",
        "        cv2.putText(image, \"circle\", (x, y), cv2.FONT_HERSHEY_COMPLEX, 0.5, (0, 0, 0))"
      ],
      "metadata": {
        "id": "yC95HjK2uicU"
      },
      "execution_count": null,
      "outputs": []
    },
    {
      "cell_type": "code",
      "source": [
        "cv2_imshow(image)\n",
        "cv2.waitKey(0)\n",
        "cv2.destroyAllWindows()"
      ],
      "metadata": {
        "id": "rd9Mp1T7ujMZ"
      },
      "execution_count": null,
      "outputs": []
    }
  ]
}